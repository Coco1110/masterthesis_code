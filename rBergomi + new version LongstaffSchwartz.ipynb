{
 "cells": [
  {
   "cell_type": "code",
   "execution_count": 1,
   "id": "16fab7a3",
   "metadata": {
    "scrolled": true
   },
   "outputs": [],
   "source": [
    "import numpy as np\n",
    "import pandas as pd\n",
    "from scipy.special import gamma\n",
    "import quadpy\n",
    "import orthopy\n",
    "from sklearn.linear_model import LinearRegression\n",
    "import matplotlib.pyplot as plt"
   ]
  },
  {
   "cell_type": "code",
   "execution_count": 2,
   "id": "fdbd5ade",
   "metadata": {},
   "outputs": [],
   "source": [
    "import warnings\n",
    "warnings.simplefilter('ignore', np.RankWarning)"
   ]
  },
  {
   "cell_type": "code",
   "execution_count": 3,
   "id": "3d01d9a1",
   "metadata": {},
   "outputs": [],
   "source": [
    "np.random.seed(0)"
   ]
  },
  {
   "cell_type": "markdown",
   "id": "d6c60014",
   "metadata": {},
   "source": [
    "# Markovian rBergomi"
   ]
  },
  {
   "cell_type": "markdown",
   "id": "cbbadf51",
   "metadata": {},
   "source": [
    "## Gaussian Quadrature Rule"
   ]
  },
  {
   "cell_type": "code",
   "execution_count": 4,
   "id": "6f4c2def",
   "metadata": {},
   "outputs": [],
   "source": [
    "def exp_underflow(x):\n",
    "    \"\"\"\n",
    "    computes exp(-x) avoiding underflow errors\n",
    "    x: float of numpy array\n",
    "    \"\"\"\n",
    "    if isinstance(x, np.ndarray):\n",
    "        if x.dtype == int:\n",
    "            x = x.astype(np.float)\n",
    "        eps = np.finfo(x.dtype).tiny\n",
    "    else:\n",
    "        if isinstance(x, int):\n",
    "            x = float(x)\n",
    "        eps = np.finfo(x.__class__).tiny\n",
    "    log_eps = -np.log(eps) / 2\n",
    "    result = np.exp(-np.fmin(x, log_eps))\n",
    "    result = np.where(x > log_eps, 0, result)\n",
    "    return result"
   ]
  },
  {
   "cell_type": "code",
   "execution_count": 5,
   "id": "348a9b1e",
   "metadata": {},
   "outputs": [],
   "source": [
    "def settings(T, H, N):\n",
    "    '''\n",
    "    N : total nodes \n",
    "    m: level of Gaussian quadrature rule\n",
    "    n: number of subintervals\n",
    "    '''\n",
    "    N = N - 1\n",
    "    A = np.sqrt(1 / H + 1 / (1.5 - H))\n",
    "    \n",
    "    alpha = 1.06418\n",
    "    beta = 0.4275\n",
    "    \n",
    "    # why float(N) instead of N???\n",
    "    z = np.exp(alpha*beta)\n",
    "    factor_1 = ((9 - 6 * H) / (2 * H)) ** (z / (8 * (z - 1)))\n",
    "    factor_2a = 5*np.pi**3 / 768 * z * (z-1) * (A**(2-2*H)*(3-2*H)) / (beta**(2-2*H)*H) * float(N)**(1-H)\n",
    "    factor_2b = 5*np.pi**3 / 1152 * z * (z-1) * A**(2-2*H) / beta**(2-2*H) * float(N)**(1-H)\n",
    "    \n",
    "    gamma_ = 1 / (3 * z / (8 * (z - 1)) + 6 * H - 4 * H * H)\n",
    "    a = (1/T) * (factor_1 * factor_2a**(2*H))**gamma_\n",
    "    b = (1/T) * (factor_1 * factor_2b**(2*H-3))**gamma_\n",
    "                 \n",
    "    m = int(np.fmax(np.round(beta / A * np.sqrt(N)), 1))\n",
    "    n = int(np.round(N / m))\n",
    "\n",
    "    xi_0 = a * np.exp(-alpha*np.sqrt(N) / ((1.5-H)*A))\n",
    "    xi_n = b * np.exp(alpha * np.sqrt(N) / (H*A))\n",
    "    sub_intervals =  np.exp(np.log(xi_0) + np.log(xi_n / xi_0) * np.linspace(0, 1, n + 1))\n",
    "    return sub_intervals, m"
   ]
  },
  {
   "cell_type": "code",
   "execution_count": 6,
   "id": "e4eeb9ef",
   "metadata": {},
   "outputs": [
    {
     "name": "stdout",
     "output_type": "stream",
     "text": [
      "subintervals:  [ 3.68272395  4.93287651  6.60741098  8.85038977 11.85477934 15.87905131]\n",
      "m:  1\n"
     ]
    }
   ],
   "source": [
    "print('subintervals: ', settings(1,0.07,6)[0])\n",
    "print('m: ', settings(1,0.07,6)[1])"
   ]
  },
  {
   "cell_type": "markdown",
   "id": "945292a1",
   "metadata": {},
   "source": [
    "An m-point Gaussian quadrature rule, named after Carl Friedrich Gauss, is a quadrature rule constructed to yield an exact result for polynomials of degree 2m − 1 or less by a suitable choice of the nodes xi and weights wi for i = 1, …, m."
   ]
  },
  {
   "cell_type": "code",
   "execution_count": 7,
   "id": "2c8bcf60",
   "metadata": {},
   "outputs": [],
   "source": [
    "def gauss_quadrature(H, m, a, b):\n",
    "    '''\n",
    "    returns the nodes and weights of the Gauss quadrature rule of level m on [a, b]\n",
    "    '''\n",
    "    d = np.arange(2 * m) + 0.5 - H\n",
    "    c_H = 1 / (gamma(0.5 + H) * gamma(0.5 - H))\n",
    "    alpha, beta, int_1 = orthopy.tools.chebyshev(moments = c_H / d * (b ** d - a ** d))\n",
    "    return quadpy.tools.scheme_from_rc(alpha, beta, int_1)"
   ]
  },
  {
   "cell_type": "code",
   "execution_count": 8,
   "id": "0b31bcf2",
   "metadata": {},
   "outputs": [],
   "source": [
    "def gaussian_optimal_zero_weight(H, T, nodes, weights):\n",
    "    \"\"\"\n",
    "    Computes the optimal weight in the L^2-approximation of an additional node at 0 given that we are already using the\n",
    "    specified nodes and weights.\n",
    "    :param H: Hurst parameter\n",
    "    :param T: Final time\n",
    "    :param nodes: The nodes of the Markovian approximation, a numpy array\n",
    "    :param weights: The weights of the Markovian approximation, a numpy array\n",
    "    :return: The optimal weight in the L^2-sense of an additional node at 0\n",
    "    \"\"\"\n",
    "    if len(nodes) == 0:\n",
    "        return T ** (H - 0.5) / gamma(H + 1.5)\n",
    "    return (T ** (H + 0.5) / gamma(H + 1.5) - np.sum(weights / nodes * (1 - exp_underflow(nodes * T)))) / T\n",
    "\n",
    "\n",
    "def gauss_quadrature_sub_intervals(H, m, subs):\n",
    "    '''\n",
    "    returns the nodes and weights of the Gaussian quadrature rule of level m on a subinterval\n",
    "    '''\n",
    "    n = len(subs) - 1\n",
    "    nodes = np.empty(m * n)\n",
    "    weights = np.empty(m * n)\n",
    "    for i in range(n):\n",
    "        new_nodes, new_weights = gauss_quadrature(H, m, subs[i], subs[i + 1])\n",
    "        nodes[m*i : m*(i + 1)] = new_nodes\n",
    "        weights[m*i : m*(i + 1)] = new_weights\n",
    "    return nodes, weights"
   ]
  },
  {
   "cell_type": "markdown",
   "id": "99b80915",
   "metadata": {},
   "source": [
    "the nodes and weights in the Gaussian quadrature rule are used to approximate the rough kernel G"
   ]
  },
  {
   "cell_type": "code",
   "execution_count": 9,
   "id": "e2299713",
   "metadata": {},
   "outputs": [],
   "source": [
    "def gaussian_quadrature_rule(T, H, N):\n",
    "    sub_intervals, m = settings(T, H, N)\n",
    "    n = len(sub_intervals) - 1\n",
    "    \n",
    "    if N == 1:\n",
    "        w_0 = T ** (H - 0.5) / gamma(H + 1.5)\n",
    "        nodes, weights = np.array([0.]), np.array([w_0])    \n",
    "    else:\n",
    "        nodes, weights = np.zeros(m * n + 1), np.empty(m * n + 1)\n",
    "        nodes[1:], weights[1:] = gauss_quadrature_sub_intervals(H, m, sub_intervals)\n",
    "        weights[0] =  gaussian_optimal_zero_weight(H, T, nodes[1:], weights[1:])\n",
    "    index_order = np.argsort(nodes)\n",
    "    sorted_nodes = nodes[index_order]\n",
    "    sorted_weights = weights[index_order]\n",
    "    # when exist more than 1 zero nodes???\n",
    "    if sorted_nodes[0] > 1e-04:\n",
    "        nodes_ = np.zeros(len(sorted_nodes) + 1)\n",
    "        nodes_[1:] = sorted_nodes\n",
    "        weights_ = np.zeros(len(sorted_weights) + 1)\n",
    "        weights_[1:] = sorted_weights\n",
    "        sorted_nodes, sorted_weights = nodes_, weights_\n",
    "    n_zero_nodes = np.sum(sorted_nodes < 1e-04)\n",
    "    sorted_nodes[:n_zero_nodes] = 0.\n",
    "    if n_zero_nodes > 1:\n",
    "        nodes_ = np.zeros(len(sorted_nodes) - n_zero_nodes + 1)\n",
    "        nodes_[1:] = sorted_nodes[n_zero_nodes:]\n",
    "        weights_ = np.zeros(len(sorted_nodes) - n_zero_nodes + 1)\n",
    "        weights_[0] = np.sum(sorted_weights[:n_zero_nodes])\n",
    "        weights_[1:] = sorted_weights[n_zero_nodes:]\n",
    "        sorted_nodes, sorted_weights = nodes_, weights_\n",
    "    return sorted_nodes, sorted_weights"
   ]
  },
  {
   "cell_type": "code",
   "execution_count": 10,
   "id": "d4665ba3",
   "metadata": {},
   "outputs": [
    {
     "name": "stdout",
     "output_type": "stream",
     "text": [
      "nodes:  [ 0.          4.29047382  5.74693564  7.69781395 10.31094541 13.81114119]\n",
      "weights:  [0.97815341 0.16946314 0.19215674 0.21788934 0.24706791 0.28015392]\n"
     ]
    }
   ],
   "source": [
    "print('nodes: ', gaussian_quadrature_rule(1, 0.07, 6)[0])\n",
    "print('weights: ', gaussian_quadrature_rule(1, 0.07, 6)[1])"
   ]
  },
  {
   "cell_type": "markdown",
   "id": "7e755dc3",
   "metadata": {},
   "source": [
    "## Markovian approximation of rough Bergomi"
   ]
  },
  {
   "cell_type": "code",
   "execution_count": 11,
   "id": "5c57d018",
   "metadata": {},
   "outputs": [],
   "source": [
    "def covariance_matrix(nodes, T, time_steps):\n",
    "    '''\n",
    "    compute Cholesky decomposition of the covariance matrix \n",
    "    of the Gaussian vector (W_dt, int_0^dt e^(-x_i(dt-s))dW_s)_i=1,..,N\n",
    "    '''\n",
    "    dt = T/time_steps\n",
    "    inner_nodes = nodes[1:]\n",
    "    sum_nodes = inner_nodes[:,None] + inner_nodes[None, :] \n",
    "    N = len(nodes)\n",
    "    cov_matrix = np.empty((N, N))\n",
    "    entry = (1 - exp_underflow(dt * inner_nodes)) / inner_nodes\n",
    "    cov_matrix[0,0] = dt\n",
    "    cov_matrix[0, 1:] = entry\n",
    "    cov_matrix[1:,0] = entry\n",
    "    cov_matrix[1:, 1:] = (1 - exp_underflow(dt*sum_nodes)) / sum_nodes\n",
    "    \n",
    "    # cholesky decomposition can only applied for positive definite matrix\n",
    "    computed_chol = False\n",
    "    sqrt_cov = None\n",
    "    while not computed_chol:\n",
    "        try:\n",
    "            sqrt_cov = np.linalg.cholesky(cov_matrix)\n",
    "            computed_chol = True\n",
    "        except np.linalg.LinAlgError:\n",
    "            dampening_factor = 0.999\n",
    "            for i in range(1, N):\n",
    "                cov_matrix[:i, i] = cov_matrix[:i, i] * dampening_factor ** ((i + 1) / N)\n",
    "                cov_matrix[i, :i] = cov_matrix[i, :i] * dampening_factor ** ((i + 1) / N)\n",
    "            computed_chol = False\n",
    "    return sqrt_cov"
   ]
  },
  {
   "cell_type": "code",
   "execution_count": 12,
   "id": "e69428e3",
   "metadata": {},
   "outputs": [],
   "source": [
    "def integral(nodes, weights, T, time_steps):\n",
    "    '''\n",
    "    compute the integral int_0^t (G_hat(t-s))^2 ds \n",
    "    '''\n",
    "    N = len(nodes)\n",
    "    dt = T/time_steps\n",
    "    t_n = np.arange(time_steps) * dt \n",
    "    w_0 = weights[0]\n",
    "    inner_nodes = nodes[1:]\n",
    "    inner_weights = weights[1:]\n",
    "    \n",
    "    weight_mult = inner_weights[np.newaxis,:] * inner_weights[:, np.newaxis]\n",
    "    node_sum = inner_nodes[np.newaxis, :] + inner_nodes[:, np.newaxis]\n",
    "    \n",
    "    integral = np.sum((weight_mult/node_sum)[None,...] * (1 - exp_underflow(node_sum[None,...]*t_n[:,None,None])), axis=(1,2))\n",
    " \n",
    "    variance_w00 = w_0**2 * t_n \n",
    "    variance_w0i = w_0 * np.sum((inner_weights/inner_nodes)[np.newaxis,:] * (1 - exp_underflow(inner_nodes[np.newaxis,:]*t_n[:,np.newaxis])), axis=1)\n",
    "\n",
    "    return integral + variance_w00 + 2*variance_w0i "
   ]
  },
  {
   "cell_type": "code",
   "execution_count": 108,
   "id": "f807787a",
   "metadata": {},
   "outputs": [],
   "source": [
    "def rBergomi_markovian(time_steps, M, nodes, weights, T=1, H=0.07, eta=1.9, rho=-0.9, v0=0.09, S0=100):\n",
    "    '''\n",
    "    simulate M paths of stock prices, volatilities by Markovian approximation of rough Bergomi model\n",
    "    Params: H: Hurst parameter\n",
    "            T: maturity\n",
    "            eta: vol of vol\n",
    "            rho: correlation of 2 Brownian motions\n",
    "            nodes, weights: nodes and weights of Gaussian quadrature rule\n",
    "            V0: forward variance constant\n",
    "            S0: spot price\n",
    "            M: number of simualted paths\n",
    "    '''\n",
    "    dt = T / time_steps\n",
    "    N = len(nodes)\n",
    "    sqrt_cov = covariance_matrix(nodes, T, time_steps)\n",
    "\n",
    "    active_nodes = nodes\n",
    "    active_weights = weights\n",
    "    \n",
    "    if weights[0] == 0:  # this is faster if the zero-node is not used in the volatility process\n",
    "        active_nodes = nodes[1:]\n",
    "        active_weights = weights[1:]\n",
    "    active_N = len(active_nodes)\n",
    "    dW = np.einsum('ij,kjl->kil', sqrt_cov, np.random.normal(0, 1, size=(M, N, time_steps)))\n",
    "    W = np.zeros((M, N, time_steps))\n",
    "    for i in range(time_steps - 1):  # W is Brownian motion, then W_t2 = W_t1 + N(0, dt)\n",
    "        W[:, :, i + 1] = exp_underflow(dt * active_nodes) * W[:, :, i] + dW[:, -active_N:, i]\n",
    "\n",
    "    variance = integral(active_nodes, active_weights, T, time_steps)\n",
    "    c = eta * np.sqrt(2 * H) * gamma(H + 0.5)\n",
    "    W_int = np.dot(c * active_weights, W)\n",
    "\n",
    "    v = v0 * np.exp(W_int - 0.5 * c ** 2 * variance)\n",
    "    \n",
    "    dWs = rho * dW[:, 0, :] + np.sqrt(1 - rho ** 2) * np.random.normal(0, np.sqrt(dt), size=(M, time_steps))\n",
    "    S = np.zeros((M, time_steps+1))\n",
    "    S[:, 0] = S0\n",
    "    S[:, 1:] = S0 * np.exp(np.cumsum(np.sqrt(v) * dWs - 0.5 * v * dt, axis=1))\n",
    "    \n",
    "    s1 = np.zeros((M, time_steps + 1))\n",
    "    s1[:, 0] = S0\n",
    "    for i in range(time_steps):\n",
    "        s1[:, i+1] = s1[:, i] * np.exp(np.sqrt(v[:, i]) * dWs[:, i] - 0.5 * v[:, i] * dt)\n",
    "    return S, v, s1"
   ]
  },
  {
   "cell_type": "code",
   "execution_count": 14,
   "id": "8e4f08d5",
   "metadata": {},
   "outputs": [],
   "source": [
    "H = 0.07 \n",
    "T = 1 \n",
    "N = 20\n",
    "eta = 1.9\n",
    "rho = -0.9\n",
    "V0 = 0.09\n",
    "S0 = 100\n",
    "r = 0.\n",
    "\n",
    "discretizing_steps = 128\n",
    "M = 100000 # number of simulated paths\n",
    "\n",
    "nodes, weights = gaussian_quadrature_rule(T, H, N)"
   ]
  },
  {
   "cell_type": "code",
   "execution_count": 15,
   "id": "12338f0f",
   "metadata": {},
   "outputs": [],
   "source": [
    "model = rBergomi_markovian(128, 100000, nodes, weights)  \n",
    "mk_v = model[1]\n",
    "mk_s = model[0]\n",
    "test = model[2]"
   ]
  },
  {
   "cell_type": "code",
   "execution_count": 27,
   "id": "f189e5be",
   "metadata": {},
   "outputs": [
    {
     "data": {
      "image/png": "[encoded data removed]",
      "text/plain": [
       "<Figure size 1200x800 with 4 Axes>"
      ]
     },
     "metadata": {},
     "output_type": "display_data"
    }
   ],
   "source": [
    "x = np.linspace(0,T,2001)\n",
    "plt_mk = rBergomi_markovian(2000, 4, nodes, weights)  \n",
    "y = plt_mk[0]\n",
    "\n",
    "fig, axs = plt.subplots(2, 2, figsize=(12, 8))\n",
    "\n",
    "axs[0, 0].plot(x, y[1])\n",
    "axs[0, 1].plot(x, y[2], 'tab:orange')\n",
    "axs[1, 0].plot(x, y[3], 'tab:green')\n",
    "axs[1, 1].plot(x, y[0], 'tab:red')\n",
    "\n",
    "axs[0, 0].grid(True)\n",
    "axs[0, 1].grid(True)\n",
    "axs[1, 0].grid(True)\n",
    "axs[1, 1].grid(True)\n",
    "\n",
    "\n",
    "\n",
    "for ax in axs.flat:\n",
    "    ax.set(xlabel='Time', ylabel='Stock price')\n",
    "\n",
    "# Hide x labels and tick labels for top plots and y ticks for right plots.\n",
    "#for ax in axs.flat:\n",
    "#    ax.label_outer()\n",
    "    \n",
    "fig.savefig('fig2')"
   ]
  },
  {
   "cell_type": "markdown",
   "id": "6fca1c7b",
   "metadata": {},
   "source": [
    "# non-markovian rBergomi"
   ]
  },
  {
   "cell_type": "code",
   "execution_count": 16,
   "id": "3e818183",
   "metadata": {},
   "outputs": [],
   "source": [
    "from scipy.special import hyp2f1, beta"
   ]
  },
  {
   "cell_type": "code",
   "execution_count": 17,
   "id": "54973ec4",
   "metadata": {},
   "outputs": [],
   "source": [
    "def sqrt_cov_matrix(T, N, H):\n",
    "    \"\"\"\n",
    "    Construct the joint covariance matrix for the Volterra process W̃ \n",
    "    and the Brownian motion Z\n",
    "    and compute its Cholesky decomposition.\n",
    "    \"\"\"\n",
    "    dt = T/N\n",
    "    cov = np.empty(shape=(2 * N, 2 * N))\n",
    "    times = np.arange(1, N + 1) * dt\n",
    "    minima = np.fmin(times[:, None], times[None, :])\n",
    "    maxima = np.fmax(times[:, None], times[None, :])\n",
    "    \n",
    "    cov[0:N, 0:N] = (minima ** (0.5 + H)) * (maxima ** (H - 0.5)) * beta(1, H+0.5) * hyp2f1(0.5 - H, 1, 1.5 + H, minima / maxima)\n",
    "    cov[N:(2 * N), N:(2 * N)] = minima\n",
    "    cov[0:N, N:(2 * N)] = 1 / (H + 0.5) * (times[:,None] ** (H + 0.5) - np.fmax(times[:, None] - times[None, :], 0) ** (H + 0.5))\n",
    "    cov[N:(2 * N), 0:N] = cov[0:N, N:(2 * N)].T\n",
    "    \n",
    "    return np.linalg.cholesky(cov)"
   ]
  },
  {
   "cell_type": "code",
   "execution_count": 18,
   "id": "3ec3ddde",
   "metadata": {},
   "outputs": [],
   "source": [
    "def rBergomi(time_steps, M, T=1, H=0.07, eta=1.9, rho=-0.9, v0=0.09, S0=100):\n",
    "    N = time_steps\n",
    "    dt = T / N\n",
    "    sqrt_cov = sqrt_cov_matrix(T, time_steps, H)\n",
    "    W_int = (sqrt_cov @ np.random.randn(2*N, M)).T\n",
    "    \n",
    "    t = np.linspace(0, T, N+1)[None, 1:-1]\n",
    "    \n",
    "    v = np.zeros((M, N))  # actual V is of shape (M, N+1), but we do not need the last one for S\n",
    "    v[:, 0] = v0\n",
    "    v[:, 1:] = v0 * np.exp(eta * np.sqrt(2*H) * W_int[:,:N - 1] - 0.5 * eta**2 * t**(2*H))\n",
    "    \n",
    "    dW1 = np.zeros((M, N))\n",
    "    dW1[:, 0] = W_int[:, N]\n",
    "    dW1[:, 1:] = W_int[:, N+1:] - W_int[:, N:2 * N - 1]\n",
    "    dZ = rho * dW1 + np.random.normal(0, np.sqrt(1 - rho ** 2) * np.sqrt(dt), (M, N))\n",
    "    \n",
    "    S = np.zeros((M, N+1))\n",
    "    S[:, 0] = S0\n",
    "    S[:, 1:] = S0 * np.exp(np.cumsum(np.sqrt(v) * dZ - 0.5 * v * dt, axis=1))\n",
    "    return S, v"
   ]
  },
  {
   "cell_type": "code",
   "execution_count": 19,
   "id": "ed0f34d5",
   "metadata": {},
   "outputs": [],
   "source": [
    "rB_model = rBergomi(128, 100000)\n",
    "rb_v = rB_model[1]\n",
    "rb_s = rB_model[0]"
   ]
  },
  {
   "cell_type": "code",
   "execution_count": 26,
   "id": "98f1b43f",
   "metadata": {},
   "outputs": [
    {
     "data": {
      "image/png": "[encoded data removed]",
      "text/plain": [
       "<Figure size 1200x800 with 4 Axes>"
      ]
     },
     "metadata": {},
     "output_type": "display_data"
    }
   ],
   "source": [
    "x = np.linspace(0,T,2001)\n",
    "plt_rb = rBergomi(2000, 4)\n",
    "y = plt_rb[0]\n",
    "\n",
    "fig, axs = plt.subplots(2, 2, figsize=(12, 8))\n",
    "\n",
    "axs[0, 0].plot(x, y[1])\n",
    "axs[0, 1].plot(x, y[2], 'tab:orange')\n",
    "axs[1, 0].plot(x, y[3], 'tab:green')\n",
    "axs[1, 1].plot(x, y[0], 'tab:red')\n",
    "\n",
    "axs[0, 0].grid(True)\n",
    "axs[0, 1].grid(True)\n",
    "axs[1, 0].grid(True)\n",
    "axs[1, 1].grid(True)\n",
    "\n",
    "\n",
    "\n",
    "for ax in axs.flat:\n",
    "    ax.set(xlabel='Time', ylabel='Stock price')\n",
    "\n",
    "# Hide x labels and tick labels for top plots and y ticks for right plots.\n",
    "#for ax in axs.flat:\n",
    "#    ax.label_outer()\n",
    "    \n",
    "fig.savefig('fig1')"
   ]
  },
  {
   "cell_type": "code",
   "execution_count": 29,
   "id": "2990ce7c",
   "metadata": {},
   "outputs": [
    {
     "data": {
      "image/png": "[encoded data removed]",
      "text/plain": [
       "<Figure size 640x480 with 2 Axes>"
      ]
     },
     "metadata": {},
     "output_type": "display_data"
    }
   ],
   "source": [
    "x = np.linspace(0,T,2000)\n",
    "y1 = plt_rb[1][1]\n",
    "y2 = plt_mk[1][1]\n",
    "\n",
    "fig, ax = plt.subplots(2, 1, constrained_layout=True)\n",
    "#fig.suptitle('Axes values are scaled individually by default')\n",
    "ax[0].plot(x, y1, linewidth = 0.7, c = 'black')\n",
    "ax[0].set_title('Volatility under rBergomi model')\n",
    "ax[0].grid(True)\n",
    "ax[1].plot(x, y2, linewidth = 0.7, c = 'black')\n",
    "ax[1].set_title('Volatility under Markovian approximation of rBergomi model')\n",
    "ax[1].grid(True)\n",
    "\n",
    "fig.savefig('fig3')"
   ]
  },
  {
   "cell_type": "markdown",
   "id": "b9bdf6b8",
   "metadata": {},
   "source": [
    "# European Put "
   ]
  },
  {
   "cell_type": "code",
   "execution_count": 30,
   "id": "4ac5fd2f",
   "metadata": {},
   "outputs": [],
   "source": [
    "#eur_premia = np.array([12.45, 15.33, 18.64, 22.40, 26.54, 30.97, 35.61, 40.39, 45.25, 50.17])"
   ]
  },
  {
   "cell_type": "code",
   "execution_count": 115,
   "id": "5a10ad3f",
   "metadata": {},
   "outputs": [],
   "source": [
    "model = rBergomi_markovian(128, 100000, nodes, weights)  \n",
    "mk_v = model[1]\n",
    "mk_s = model[0]\n",
    "test = model[2]"
   ]
  },
  {
   "cell_type": "code",
   "execution_count": 97,
   "id": "20ca0efa",
   "metadata": {},
   "outputs": [],
   "source": [
    "rB_model = rBergomi(128, 100000)\n",
    "rb_v = rB_model[1]\n",
    "rb_s = rB_model[0]"
   ]
  },
  {
   "cell_type": "code",
   "execution_count": 134,
   "id": "65d90813",
   "metadata": {},
   "outputs": [],
   "source": [
    "def european_put(S, K, T=1, r=0.05):\n",
    "    payoffs = np.fmax(K-S[:,-1], 0)\n",
    "    discounted_h = payoffs * np.exp(-r * T)\n",
    "    return np.round(np.average(discounted_h),4)"
   ]
  },
  {
   "cell_type": "code",
   "execution_count": 135,
   "id": "efb2f5bc",
   "metadata": {},
   "outputs": [
    {
     "name": "stdout",
     "output_type": "stream",
     "text": [
      "Strike  70 : markov:  2.1507 2.1507 non-markov:  2.1238\n",
      "Strike  80 : markov:  3.6738 3.6738 non-markov:  3.6387\n",
      "Strike  90 : markov:  6.0163 6.0163 non-markov:  5.9862\n",
      "Strike  100 : markov:  9.474 9.474 non-markov:  9.4938\n",
      "Strike  110 : markov:  14.3867 14.3867 non-markov:  14.5098\n",
      "Strike  120 : markov:  20.9681 20.9681 non-markov:  21.2503\n",
      "Strike  130 : markov:  29.064 29.064 non-markov:  29.4273\n",
      "Strike  140 : markov:  38.094 38.094 non-markov:  38.4088\n"
     ]
    }
   ],
   "source": [
    "# European put price by Markovian approximation\n",
    "for k in range(70, 150, 10):\n",
    "    print('Strike ',k,': markov: ', european_put(mk_s, k), european_put(test, k), 'non-markov: ', european_put(rb_s, k))"
   ]
  },
  {
   "cell_type": "code",
   "execution_count": 117,
   "id": "9dedebdf",
   "metadata": {},
   "outputs": [],
   "source": [
    "K = np.arange(70, 150, 10)\n",
    "l = len(K)\n",
    "premia = ['-', '-', '-', '-', 15.33, 22.40, 30.97, 40.39]\n",
    "mk_eur = np.zeros(l)\n",
    "rb_eur = np.zeros(l)\n",
    "for i in range(l):\n",
    "    mk_eur[i] = european_put(mk_s, K[i])\n",
    "    rb_eur[i] = european_put(rb_s, K[i])"
   ]
  },
  {
   "cell_type": "code",
   "execution_count": 61,
   "id": "1ed6931c",
   "metadata": {},
   "outputs": [],
   "source": [
    "mk_eur = [2.23, 3.84, 6.29, 9.85, 14.81, 21.34, 29.34, 38.32]\n",
    "rbergomi_eur = [2.13, 3.65, 6.00, 9.51, 14.52, 21.26, 29.44, 38.40]\n",
    "rbergomi_simon = [2.10, 3.61, 5.96, 9.49, 14.52, 21.28, 29.46, 38.44]\n",
    "premia = ['-', '-', '-', '-', 15.33, 22.40, 30.97, 40.39]"
   ]
  },
  {
   "cell_type": "code",
   "execution_count": 62,
   "id": "79778975",
   "metadata": {},
   "outputs": [],
   "source": [
    "data = {'markovian': mk_eur, 'non-markovian': rb_eur, 'premia': premia}"
   ]
  },
  {
   "cell_type": "code",
   "execution_count": 63,
   "id": "48e1cde9",
   "metadata": {},
   "outputs": [],
   "source": [
    "df1 = pd.DataFrame(data, columns = ['markovian', 'non-markovian', 'premia'], index = K)"
   ]
  },
  {
   "cell_type": "code",
   "execution_count": 64,
   "id": "5066de28",
   "metadata": {},
   "outputs": [],
   "source": [
    "df1['relative error markov - nonmarkov'] = df1['markovian'] / df1['non-markovian'] - 1 "
   ]
  },
  {
   "cell_type": "code",
   "execution_count": 65,
   "id": "89fd7844",
   "metadata": {},
   "outputs": [
    {
     "data": {
      "text/html": [
       "<div>\n",
       "<style scoped>\n",
       "    .dataframe tbody tr th:only-of-type {\n",
       "        vertical-align: middle;\n",
       "    }\n",
       "\n",
       "    .dataframe tbody tr th {\n",
       "        vertical-align: top;\n",
       "    }\n",
       "\n",
       "    .dataframe thead th {\n",
       "        text-align: right;\n",
       "    }\n",
       "</style>\n",
       "<table border=\"1\" class=\"dataframe\">\n",
       "  <thead>\n",
       "    <tr style=\"text-align: right;\">\n",
       "      <th></th>\n",
       "      <th>markovian</th>\n",
       "      <th>non-markovian</th>\n",
       "      <th>premia</th>\n",
       "      <th>relative error markov - nonmarkov</th>\n",
       "    </tr>\n",
       "  </thead>\n",
       "  <tbody>\n",
       "    <tr>\n",
       "      <th>70</th>\n",
       "      <td>2.23</td>\n",
       "      <td>2.2267</td>\n",
       "      <td>-</td>\n",
       "      <td>0.001482</td>\n",
       "    </tr>\n",
       "    <tr>\n",
       "      <th>80</th>\n",
       "      <td>3.84</td>\n",
       "      <td>3.8329</td>\n",
       "      <td>-</td>\n",
       "      <td>0.001852</td>\n",
       "    </tr>\n",
       "    <tr>\n",
       "      <th>90</th>\n",
       "      <td>6.29</td>\n",
       "      <td>6.3048</td>\n",
       "      <td>-</td>\n",
       "      <td>-0.002347</td>\n",
       "    </tr>\n",
       "    <tr>\n",
       "      <th>100</th>\n",
       "      <td>9.85</td>\n",
       "      <td>9.9884</td>\n",
       "      <td>-</td>\n",
       "      <td>-0.013856</td>\n",
       "    </tr>\n",
       "    <tr>\n",
       "      <th>110</th>\n",
       "      <td>14.81</td>\n",
       "      <td>15.2765</td>\n",
       "      <td>15.33</td>\n",
       "      <td>-0.030537</td>\n",
       "    </tr>\n",
       "    <tr>\n",
       "      <th>120</th>\n",
       "      <td>21.34</td>\n",
       "      <td>22.3632</td>\n",
       "      <td>22.4</td>\n",
       "      <td>-0.045754</td>\n",
       "    </tr>\n",
       "    <tr>\n",
       "      <th>130</th>\n",
       "      <td>29.34</td>\n",
       "      <td>30.9570</td>\n",
       "      <td>30.97</td>\n",
       "      <td>-0.052234</td>\n",
       "    </tr>\n",
       "    <tr>\n",
       "      <th>140</th>\n",
       "      <td>38.32</td>\n",
       "      <td>40.3962</td>\n",
       "      <td>40.39</td>\n",
       "      <td>-0.051396</td>\n",
       "    </tr>\n",
       "  </tbody>\n",
       "</table>\n",
       "</div>"
      ],
      "text/plain": [
       "     markovian  non-markovian premia  relative error markov - nonmarkov\n",
       "70        2.23         2.2267      -                           0.001482\n",
       "80        3.84         3.8329      -                           0.001852\n",
       "90        6.29         6.3048      -                          -0.002347\n",
       "100       9.85         9.9884      -                          -0.013856\n",
       "110      14.81        15.2765  15.33                          -0.030537\n",
       "120      21.34        22.3632   22.4                          -0.045754\n",
       "130      29.34        30.9570  30.97                          -0.052234\n",
       "140      38.32        40.3962  40.39                          -0.051396"
      ]
     },
     "execution_count": 65,
     "metadata": {},
     "output_type": "execute_result"
    }
   ],
   "source": [
    "df1"
   ]
  },
  {
   "cell_type": "markdown",
   "id": "589db8fe",
   "metadata": {},
   "source": [
    "## American Put"
   ]
  },
  {
   "cell_type": "code",
   "execution_count": 136,
   "id": "e114a04c",
   "metadata": {},
   "outputs": [],
   "source": [
    "# American put price under markovian approximation\n",
    "mk_put_eur = []\n",
    "mk_4 = []\n",
    "mk_8 = []\n",
    "mk_16 = []\n",
    "mk_32 = []\n",
    "for k in np.arange(70, 150, 10):\n",
    "    #print(k)\n",
    "    mk_put_eur.append(european_put(mk_s, k))\n",
    "    mk_4.append(longstaff_schwartz_multivariate(mk_s, mk_v, 4, k)[0])\n",
    "    mk_8.append(longstaff_schwartz_multivariate(mk_s, mk_v, 8, k)[0])\n",
    "    mk_16.append(longstaff_schwartz_multivariate(mk_s, mk_v, 16, k)[0])\n",
    "    mk_32.append(longstaff_schwartz_multivariate(mk_s, mk_v, 32, k)[0])\n",
    "    #print('PutEur: ', european_put(mk_s, k)) \n",
    "    #print('8 Ausübungszeiten: ', 'PutAmer by univariate Regression: ', longstaff_schwartz(mk_s, 8, k, dimension=6)[0], '|| PutAmer by multivariate Regression: ', longstaff_schwartz_multivariate(mk_s, mk_v, 8, k)[0])\n",
    "    #print('16 Ausübungszeiten: ', 'PutAmer by univariate Regression: ', longstaff_schwartz(mk_s, 16, k, dimension=6)[0], '|| PutAmer by multivariate Regression: ', longstaff_schwartz_multivariate(mk_s, mk_v, 16, k)[0])\n",
    "    #print('________')"
   ]
  },
  {
   "cell_type": "code",
   "execution_count": 137,
   "id": "42560048",
   "metadata": {},
   "outputs": [],
   "source": [
    "# put price by rough Bergomi\n",
    "rb_put_eur = []\n",
    "rb_4 = []\n",
    "rb_8 = []\n",
    "rb_16 = []\n",
    "rb_32 = []\n",
    "for k in np.arange(70, 150, 10):\n",
    "    rb_put_eur.append(european_put(rb_s, k))\n",
    "    rb_4.append(longstaff_schwartz_multivariate(rb_s, rb_v, 4, k)[0])\n",
    "    rb_8.append(longstaff_schwartz_multivariate(rb_s, rb_v, 8, k)[0])\n",
    "    rb_16.append(longstaff_schwartz_multivariate(rb_s, rb_v, 16, k)[0])\n",
    "    rb_32.append(longstaff_schwartz_multivariate(rb_s, rb_v, 32, k)[0])"
   ]
  },
  {
   "cell_type": "code",
   "execution_count": 138,
   "id": "2335f4d5",
   "metadata": {},
   "outputs": [],
   "source": [
    "data_ma = {'mkEurPut': mk_put_eur,\n",
    "    'mk_4': mk_4,\n",
    "    'mk_8': mk_8,\n",
    "    'mk_16': mk_16,\n",
    "    'mk_32': mk_32,\n",
    "    'rbEurPut': rb_put_eur,\n",
    "    'rb_4': rb_4,\n",
    "    'rb_8': rb_8,\n",
    "    'rb_16': rb_16,\n",
    "    'rb_32': rb_32}\n",
    "\n",
    "df_2 = pd.DataFrame(data_ma, index=np.arange(70, 150, 10))"
   ]
  },
  {
   "cell_type": "code",
   "execution_count": 139,
   "id": "87e702c8",
   "metadata": {},
   "outputs": [
    {
     "data": {
      "text/html": [
       "<div>\n",
       "<style scoped>\n",
       "    .dataframe tbody tr th:only-of-type {\n",
       "        vertical-align: middle;\n",
       "    }\n",
       "\n",
       "    .dataframe tbody tr th {\n",
       "        vertical-align: top;\n",
       "    }\n",
       "\n",
       "    .dataframe thead th {\n",
       "        text-align: right;\n",
       "    }\n",
       "</style>\n",
       "<table border=\"1\" class=\"dataframe\">\n",
       "  <thead>\n",
       "    <tr style=\"text-align: right;\">\n",
       "      <th></th>\n",
       "      <th>70</th>\n",
       "      <th>80</th>\n",
       "      <th>90</th>\n",
       "      <th>100</th>\n",
       "      <th>110</th>\n",
       "      <th>120</th>\n",
       "      <th>130</th>\n",
       "      <th>140</th>\n",
       "    </tr>\n",
       "  </thead>\n",
       "  <tbody>\n",
       "    <tr>\n",
       "      <th>mkEurPut</th>\n",
       "      <td>2.1507</td>\n",
       "      <td>3.6738</td>\n",
       "      <td>6.0163</td>\n",
       "      <td>9.4740</td>\n",
       "      <td>14.3867</td>\n",
       "      <td>20.9681</td>\n",
       "      <td>29.0640</td>\n",
       "      <td>38.0940</td>\n",
       "    </tr>\n",
       "    <tr>\n",
       "      <th>mk_4</th>\n",
       "      <td>2.2560</td>\n",
       "      <td>3.8627</td>\n",
       "      <td>6.3268</td>\n",
       "      <td>9.9696</td>\n",
       "      <td>15.1548</td>\n",
       "      <td>22.1006</td>\n",
       "      <td>30.6088</td>\n",
       "      <td>40.1644</td>\n",
       "    </tr>\n",
       "    <tr>\n",
       "      <th>mk_8</th>\n",
       "      <td>2.2664</td>\n",
       "      <td>3.8706</td>\n",
       "      <td>6.3220</td>\n",
       "      <td>9.9913</td>\n",
       "      <td>15.1683</td>\n",
       "      <td>22.1123</td>\n",
       "      <td>30.6601</td>\n",
       "      <td>40.1632</td>\n",
       "    </tr>\n",
       "    <tr>\n",
       "      <th>mk_16</th>\n",
       "      <td>2.2708</td>\n",
       "      <td>3.8724</td>\n",
       "      <td>6.3232</td>\n",
       "      <td>9.9732</td>\n",
       "      <td>15.1576</td>\n",
       "      <td>22.0724</td>\n",
       "      <td>30.6538</td>\n",
       "      <td>40.1907</td>\n",
       "    </tr>\n",
       "    <tr>\n",
       "      <th>mk_32</th>\n",
       "      <td>2.2736</td>\n",
       "      <td>3.8690</td>\n",
       "      <td>6.3142</td>\n",
       "      <td>9.9576</td>\n",
       "      <td>15.1533</td>\n",
       "      <td>22.0730</td>\n",
       "      <td>30.6033</td>\n",
       "      <td>40.1889</td>\n",
       "    </tr>\n",
       "    <tr>\n",
       "      <th>rbEurPut</th>\n",
       "      <td>2.1238</td>\n",
       "      <td>3.6387</td>\n",
       "      <td>5.9862</td>\n",
       "      <td>9.4938</td>\n",
       "      <td>14.5098</td>\n",
       "      <td>21.2503</td>\n",
       "      <td>29.4273</td>\n",
       "      <td>38.4088</td>\n",
       "    </tr>\n",
       "    <tr>\n",
       "      <th>rb_4</th>\n",
       "      <td>2.2351</td>\n",
       "      <td>3.8248</td>\n",
       "      <td>6.2950</td>\n",
       "      <td>9.9783</td>\n",
       "      <td>15.2467</td>\n",
       "      <td>22.3332</td>\n",
       "      <td>30.9577</td>\n",
       "      <td>40.4165</td>\n",
       "    </tr>\n",
       "    <tr>\n",
       "      <th>rb_8</th>\n",
       "      <td>2.2379</td>\n",
       "      <td>3.8299</td>\n",
       "      <td>6.2980</td>\n",
       "      <td>9.9769</td>\n",
       "      <td>15.2607</td>\n",
       "      <td>22.3588</td>\n",
       "      <td>30.9819</td>\n",
       "      <td>40.4407</td>\n",
       "    </tr>\n",
       "    <tr>\n",
       "      <th>rb_16</th>\n",
       "      <td>2.2364</td>\n",
       "      <td>3.8310</td>\n",
       "      <td>6.2987</td>\n",
       "      <td>9.9846</td>\n",
       "      <td>15.2743</td>\n",
       "      <td>22.3464</td>\n",
       "      <td>30.9560</td>\n",
       "      <td>40.4133</td>\n",
       "    </tr>\n",
       "    <tr>\n",
       "      <th>rb_32</th>\n",
       "      <td>2.2429</td>\n",
       "      <td>3.8427</td>\n",
       "      <td>6.3020</td>\n",
       "      <td>9.9815</td>\n",
       "      <td>15.2753</td>\n",
       "      <td>22.3496</td>\n",
       "      <td>30.9536</td>\n",
       "      <td>40.4210</td>\n",
       "    </tr>\n",
       "  </tbody>\n",
       "</table>\n",
       "</div>"
      ],
      "text/plain": [
       "             70      80      90      100      110      120      130      140\n",
       "mkEurPut  2.1507  3.6738  6.0163  9.4740  14.3867  20.9681  29.0640  38.0940\n",
       "mk_4      2.2560  3.8627  6.3268  9.9696  15.1548  22.1006  30.6088  40.1644\n",
       "mk_8      2.2664  3.8706  6.3220  9.9913  15.1683  22.1123  30.6601  40.1632\n",
       "mk_16     2.2708  3.8724  6.3232  9.9732  15.1576  22.0724  30.6538  40.1907\n",
       "mk_32     2.2736  3.8690  6.3142  9.9576  15.1533  22.0730  30.6033  40.1889\n",
       "rbEurPut  2.1238  3.6387  5.9862  9.4938  14.5098  21.2503  29.4273  38.4088\n",
       "rb_4      2.2351  3.8248  6.2950  9.9783  15.2467  22.3332  30.9577  40.4165\n",
       "rb_8      2.2379  3.8299  6.2980  9.9769  15.2607  22.3588  30.9819  40.4407\n",
       "rb_16     2.2364  3.8310  6.2987  9.9846  15.2743  22.3464  30.9560  40.4133\n",
       "rb_32     2.2429  3.8427  6.3020  9.9815  15.2753  22.3496  30.9536  40.4210"
      ]
     },
     "execution_count": 139,
     "metadata": {},
     "output_type": "execute_result"
    }
   ],
   "source": [
    "df_2.T"
   ]
  },
  {
   "cell_type": "code",
   "execution_count": 140,
   "id": "50827c9d",
   "metadata": {},
   "outputs": [
    {
     "name": "stdout",
     "output_type": "stream",
     "text": [
      "2.15 & 3.67 & 6.02 & 9.47 & 14.39 & 20.97 & 29.06 & 38.09   \\\n",
      "2.26 & 3.86 & 6.33 & 9.97 & 15.15 & 22.1 & 30.61 & 40.16   \\\n",
      "2.27 & 3.87 & 6.32 & 9.99 & 15.17 & 22.11 & 30.66 & 40.16   \\\n",
      "2.27 & 3.87 & 6.32 & 9.97 & 15.16 & 22.07 & 30.65 & 40.19   \\\n",
      "2.27 & 3.87 & 6.31 & 9.96 & 15.15 & 22.07 & 30.6 & 40.19   \\\n",
      "2.12 & 3.64 & 5.99 & 9.49 & 14.51 & 21.25 & 29.43 & 38.41   \\\n",
      "2.24 & 3.82 & 6.3 & 9.98 & 15.25 & 22.33 & 30.96 & 40.42   \\\n",
      "2.24 & 3.83 & 6.3 & 9.98 & 15.26 & 22.36 & 30.98 & 40.44   \\\n",
      "2.24 & 3.83 & 6.3 & 9.98 & 15.27 & 22.35 & 30.96 & 40.41   \\\n",
      "2.24 & 3.84 & 6.3 & 9.98 & 15.28 & 22.35 & 30.95 & 40.42   \\\n"
     ]
    }
   ],
   "source": [
    "for ls in [mk_put_eur,mk_4,mk_8,mk_16,mk_32,rb_put_eur,rb_4,rb_8,rb_16,rb_32]:\n",
    "    print(\" & \".join([str(np.round(i,2)) for i in ls]) + \"   \\\\\")"
   ]
  },
  {
   "cell_type": "code",
   "execution_count": 141,
   "id": "08fbf2ed",
   "metadata": {},
   "outputs": [],
   "source": [
    "# American put price under markovian approximation MC error\n",
    "mk_put_eur = []\n",
    "mk_4 = []\n",
    "mk_8 = []\n",
    "mk_16 = []\n",
    "mk_32 = []\n",
    "for k in np.arange(70, 150, 10):\n",
    "    #print(k)\n",
    "    mk_put_eur.append(european_put(mk_s, k))\n",
    "    mk_4.append(longstaff_schwartz_multivariate(mk_s, mk_v, 4, k)[1])\n",
    "    mk_8.append(longstaff_schwartz_multivariate(mk_s, mk_v, 8, k)[1])\n",
    "    mk_16.append(longstaff_schwartz_multivariate(mk_s, mk_v, 16, k)[1])\n",
    "    mk_32.append(longstaff_schwartz_multivariate(mk_s, mk_v, 32, k)[1])\n",
    "    \n",
    "# put price by rough Bergomi\n",
    "rb_put_eur = []\n",
    "rb_4 = []\n",
    "rb_8 = []\n",
    "rb_16 = []\n",
    "rb_32 = []\n",
    "for k in np.arange(70, 150, 10):\n",
    "    rb_put_eur.append(european_put(rb_s, k))\n",
    "    rb_4.append(longstaff_schwartz_multivariate(rb_s, rb_v, 4, k)[1])\n",
    "    rb_8.append(longstaff_schwartz_multivariate(rb_s, rb_v, 8, k)[1])\n",
    "    rb_16.append(longstaff_schwartz_multivariate(rb_s, rb_v, 16, k)[1])\n",
    "    rb_32.append(longstaff_schwartz_multivariate(rb_s, rb_v, 32, k)[1])\n",
    "    \n",
    "data_mc = {'mkEurPut': mk_put_eur,\n",
    "    'mk_4': mk_4,\n",
    "    'mk_8': mk_8,\n",
    "    'mk_16': mk_16,\n",
    "    'mk_32': mk_32,\n",
    "    'rbEurPut': rb_put_eur,\n",
    "    'rb_4': rb_4,\n",
    "    'rb_8': rb_8,\n",
    "    'rb_16': rb_16,\n",
    "    'rb_32': rb_32}\n",
    "\n",
    "df_3 = pd.DataFrame(data_mc, index=np.arange(70, 150, 10))    "
   ]
  },
  {
   "cell_type": "code",
   "execution_count": 142,
   "id": "a75090d2",
   "metadata": {},
   "outputs": [
    {
     "data": {
      "text/html": [
       "<div>\n",
       "<style scoped>\n",
       "    .dataframe tbody tr th:only-of-type {\n",
       "        vertical-align: middle;\n",
       "    }\n",
       "\n",
       "    .dataframe tbody tr th {\n",
       "        vertical-align: top;\n",
       "    }\n",
       "\n",
       "    .dataframe thead th {\n",
       "        text-align: right;\n",
       "    }\n",
       "</style>\n",
       "<table border=\"1\" class=\"dataframe\">\n",
       "  <thead>\n",
       "    <tr style=\"text-align: right;\">\n",
       "      <th></th>\n",
       "      <th>70</th>\n",
       "      <th>80</th>\n",
       "      <th>90</th>\n",
       "      <th>100</th>\n",
       "      <th>110</th>\n",
       "      <th>120</th>\n",
       "      <th>130</th>\n",
       "      <th>140</th>\n",
       "    </tr>\n",
       "  </thead>\n",
       "  <tbody>\n",
       "    <tr>\n",
       "      <th>mkEurPut</th>\n",
       "      <td>2.150700</td>\n",
       "      <td>3.673800</td>\n",
       "      <td>6.016300</td>\n",
       "      <td>9.474000</td>\n",
       "      <td>14.386700</td>\n",
       "      <td>20.968100</td>\n",
       "      <td>29.064000</td>\n",
       "      <td>38.094000</td>\n",
       "    </tr>\n",
       "    <tr>\n",
       "      <th>mk_4</th>\n",
       "      <td>0.048229</td>\n",
       "      <td>0.065109</td>\n",
       "      <td>0.082358</td>\n",
       "      <td>0.100352</td>\n",
       "      <td>0.116926</td>\n",
       "      <td>0.125611</td>\n",
       "      <td>0.129083</td>\n",
       "      <td>0.124502</td>\n",
       "    </tr>\n",
       "    <tr>\n",
       "      <th>mk_8</th>\n",
       "      <td>0.047674</td>\n",
       "      <td>0.064235</td>\n",
       "      <td>0.080698</td>\n",
       "      <td>0.097432</td>\n",
       "      <td>0.112930</td>\n",
       "      <td>0.123532</td>\n",
       "      <td>0.129613</td>\n",
       "      <td>0.128339</td>\n",
       "    </tr>\n",
       "    <tr>\n",
       "      <th>mk_16</th>\n",
       "      <td>0.047118</td>\n",
       "      <td>0.063519</td>\n",
       "      <td>0.079571</td>\n",
       "      <td>0.094693</td>\n",
       "      <td>0.109476</td>\n",
       "      <td>0.119694</td>\n",
       "      <td>0.126027</td>\n",
       "      <td>0.121241</td>\n",
       "    </tr>\n",
       "    <tr>\n",
       "      <th>mk_32</th>\n",
       "      <td>0.046375</td>\n",
       "      <td>0.062059</td>\n",
       "      <td>0.077641</td>\n",
       "      <td>0.092290</td>\n",
       "      <td>0.105243</td>\n",
       "      <td>0.114338</td>\n",
       "      <td>0.116520</td>\n",
       "      <td>0.114588</td>\n",
       "    </tr>\n",
       "    <tr>\n",
       "      <th>rbEurPut</th>\n",
       "      <td>2.123800</td>\n",
       "      <td>3.638700</td>\n",
       "      <td>5.986200</td>\n",
       "      <td>9.493800</td>\n",
       "      <td>14.509800</td>\n",
       "      <td>21.250300</td>\n",
       "      <td>29.427300</td>\n",
       "      <td>38.408800</td>\n",
       "    </tr>\n",
       "    <tr>\n",
       "      <th>rb_4</th>\n",
       "      <td>0.048526</td>\n",
       "      <td>0.064822</td>\n",
       "      <td>0.083898</td>\n",
       "      <td>0.103242</td>\n",
       "      <td>0.122211</td>\n",
       "      <td>0.135539</td>\n",
       "      <td>0.141318</td>\n",
       "      <td>0.143435</td>\n",
       "    </tr>\n",
       "    <tr>\n",
       "      <th>rb_8</th>\n",
       "      <td>0.048325</td>\n",
       "      <td>0.064219</td>\n",
       "      <td>0.083365</td>\n",
       "      <td>0.102489</td>\n",
       "      <td>0.121092</td>\n",
       "      <td>0.133139</td>\n",
       "      <td>0.140053</td>\n",
       "      <td>0.139397</td>\n",
       "    </tr>\n",
       "    <tr>\n",
       "      <th>rb_16</th>\n",
       "      <td>0.047213</td>\n",
       "      <td>0.063257</td>\n",
       "      <td>0.081645</td>\n",
       "      <td>0.102014</td>\n",
       "      <td>0.118791</td>\n",
       "      <td>0.128600</td>\n",
       "      <td>0.132777</td>\n",
       "      <td>0.134794</td>\n",
       "    </tr>\n",
       "    <tr>\n",
       "      <th>rb_32</th>\n",
       "      <td>0.047367</td>\n",
       "      <td>0.064213</td>\n",
       "      <td>0.082152</td>\n",
       "      <td>0.099088</td>\n",
       "      <td>0.115726</td>\n",
       "      <td>0.124508</td>\n",
       "      <td>0.127919</td>\n",
       "      <td>0.129940</td>\n",
       "    </tr>\n",
       "  </tbody>\n",
       "</table>\n",
       "</div>"
      ],
      "text/plain": [
       "               70        80        90        100        110        120  \\\n",
       "mkEurPut  2.150700  3.673800  6.016300  9.474000  14.386700  20.968100   \n",
       "mk_4      0.048229  0.065109  0.082358  0.100352   0.116926   0.125611   \n",
       "mk_8      0.047674  0.064235  0.080698  0.097432   0.112930   0.123532   \n",
       "mk_16     0.047118  0.063519  0.079571  0.094693   0.109476   0.119694   \n",
       "mk_32     0.046375  0.062059  0.077641  0.092290   0.105243   0.114338   \n",
       "rbEurPut  2.123800  3.638700  5.986200  9.493800  14.509800  21.250300   \n",
       "rb_4      0.048526  0.064822  0.083898  0.103242   0.122211   0.135539   \n",
       "rb_8      0.048325  0.064219  0.083365  0.102489   0.121092   0.133139   \n",
       "rb_16     0.047213  0.063257  0.081645  0.102014   0.118791   0.128600   \n",
       "rb_32     0.047367  0.064213  0.082152  0.099088   0.115726   0.124508   \n",
       "\n",
       "                130        140  \n",
       "mkEurPut  29.064000  38.094000  \n",
       "mk_4       0.129083   0.124502  \n",
       "mk_8       0.129613   0.128339  \n",
       "mk_16      0.126027   0.121241  \n",
       "mk_32      0.116520   0.114588  \n",
       "rbEurPut  29.427300  38.408800  \n",
       "rb_4       0.141318   0.143435  \n",
       "rb_8       0.140053   0.139397  \n",
       "rb_16      0.132777   0.134794  \n",
       "rb_32      0.127919   0.129940  "
      ]
     },
     "execution_count": 142,
     "metadata": {},
     "output_type": "execute_result"
    }
   ],
   "source": [
    "df_3.T"
   ]
  },
  {
   "cell_type": "code",
   "execution_count": 146,
   "id": "cc1cfc7a",
   "metadata": {},
   "outputs": [
    {
     "data": {
      "text/plain": [
       "array([ 0.01266598,  0.0096463 ,  0.00502823, -0.00208557, -0.00848392,\n",
       "       -0.01327981, -0.01234568, -0.00819604])"
      ]
     },
     "execution_count": 146,
     "metadata": {},
     "output_type": "execute_result"
    }
   ],
   "source": [
    "np.array(mk_put_eur) / np.array(rb_put_eur) - 1"
   ]
  },
  {
   "cell_type": "code",
   "execution_count": 147,
   "id": "7cfc26da",
   "metadata": {},
   "outputs": [
    {
     "data": {
      "text/plain": [
       "array([-0.00612449,  0.00443259, -0.01835401, -0.02798746, -0.0432414 ,\n",
       "       -0.07324344, -0.08657462, -0.13199105])"
      ]
     },
     "execution_count": 147,
     "metadata": {},
     "output_type": "execute_result"
    }
   ],
   "source": [
    "np.array(mk_4) / np.array(rb_4) - 1"
   ]
  },
  {
   "cell_type": "code",
   "execution_count": 148,
   "id": "acce62e5",
   "metadata": {},
   "outputs": [
    {
     "data": {
      "text/plain": [
       "array([-0.01346   ,  0.00024489, -0.03199278, -0.04933551, -0.06739874,\n",
       "       -0.07215779, -0.07454662, -0.07932714])"
      ]
     },
     "execution_count": 148,
     "metadata": {},
     "output_type": "execute_result"
    }
   ],
   "source": [
    "np.array(mk_8) / np.array(rb_8) - 1"
   ]
  },
  {
   "cell_type": "code",
   "execution_count": 149,
   "id": "7a6b5e17",
   "metadata": {},
   "outputs": [
    {
     "data": {
      "text/plain": [
       "array([-0.00201234,  0.00414747, -0.02541208, -0.07176607, -0.07842116,\n",
       "       -0.06925066, -0.05084137, -0.10054148])"
      ]
     },
     "execution_count": 149,
     "metadata": {},
     "output_type": "execute_result"
    }
   ],
   "source": [
    "np.array(mk_16) / np.array(rb_16) - 1"
   ]
  },
  {
   "cell_type": "code",
   "execution_count": 150,
   "id": "682b4f71",
   "metadata": {},
   "outputs": [
    {
     "data": {
      "text/plain": [
       "array([-0.02093948, -0.03353871, -0.05490729, -0.06860479, -0.09058239,\n",
       "       -0.08167966, -0.08911256, -0.1181462 ])"
      ]
     },
     "execution_count": 150,
     "metadata": {},
     "output_type": "execute_result"
    }
   ],
   "source": [
    "np.array(mk_32) / np.array(rb_32) - 1"
   ]
  },
  {
   "cell_type": "code",
   "execution_count": 105,
   "id": "c2217b45",
   "metadata": {},
   "outputs": [],
   "source": [
    "# put price by markovian approximation\n",
    "data_us_mk = {'EurPut': mk_put_eur,\n",
    "    'uni_8': mk_uni_8,\n",
    "    'uni_16': mk_uni_16,\n",
    "    'multi_8': mk_multi_8,\n",
    "    'multi_16': mk_mutli_16}\n",
    "\n",
    "df_us_mk = pd.DataFrame(data_us_mk, index=np.arange(70, 150, 10))"
   ]
  },
  {
   "cell_type": "code",
   "execution_count": 106,
   "id": "6e2e6b0e",
   "metadata": {},
   "outputs": [
    {
     "data": {
      "text/html": [
       "<div>\n",
       "<style scoped>\n",
       "    .dataframe tbody tr th:only-of-type {\n",
       "        vertical-align: middle;\n",
       "    }\n",
       "\n",
       "    .dataframe tbody tr th {\n",
       "        vertical-align: top;\n",
       "    }\n",
       "\n",
       "    .dataframe thead th {\n",
       "        text-align: right;\n",
       "    }\n",
       "</style>\n",
       "<table border=\"1\" class=\"dataframe\">\n",
       "  <thead>\n",
       "    <tr style=\"text-align: right;\">\n",
       "      <th></th>\n",
       "      <th>70</th>\n",
       "      <th>80</th>\n",
       "      <th>90</th>\n",
       "      <th>100</th>\n",
       "      <th>110</th>\n",
       "      <th>120</th>\n",
       "      <th>130</th>\n",
       "      <th>140</th>\n",
       "    </tr>\n",
       "  </thead>\n",
       "  <tbody>\n",
       "    <tr>\n",
       "      <th>EurPut</th>\n",
       "      <td>2.3115</td>\n",
       "      <td>3.951</td>\n",
       "      <td>6.458</td>\n",
       "      <td>10.1339</td>\n",
       "      <td>15.318</td>\n",
       "      <td>22.2557</td>\n",
       "      <td>30.7883</td>\n",
       "      <td>40.2863</td>\n",
       "    </tr>\n",
       "    <tr>\n",
       "      <th>uni_8</th>\n",
       "      <td>2.3307</td>\n",
       "      <td>3.9669</td>\n",
       "      <td>6.4807</td>\n",
       "      <td>10.1554</td>\n",
       "      <td>15.3406</td>\n",
       "      <td>22.273</td>\n",
       "      <td>30.8083</td>\n",
       "      <td>40.2961</td>\n",
       "    </tr>\n",
       "    <tr>\n",
       "      <th>uni_16</th>\n",
       "      <td>2.3361</td>\n",
       "      <td>3.976</td>\n",
       "      <td>6.4854</td>\n",
       "      <td>10.1667</td>\n",
       "      <td>15.3493</td>\n",
       "      <td>22.2675</td>\n",
       "      <td>30.8154</td>\n",
       "      <td>40.285</td>\n",
       "    </tr>\n",
       "    <tr>\n",
       "      <th>multi_8</th>\n",
       "      <td>(2.3299, 0.0467557539815071)</td>\n",
       "      <td>(3.9658, 0.06414106403553295)</td>\n",
       "      <td>(6.475, 0.08377779298827794)</td>\n",
       "      <td>(10.156, 0.10471050766120756)</td>\n",
       "      <td>(15.333, 0.123882635568629)</td>\n",
       "      <td>(22.251, 0.1351963948910728)</td>\n",
       "      <td>(30.8081, 0.14226043076194636)</td>\n",
       "      <td>(40.2906, 0.13433016167914338)</td>\n",
       "    </tr>\n",
       "    <tr>\n",
       "      <th>multi_16</th>\n",
       "      <td>(2.337, 0.04611083021846945)</td>\n",
       "      <td>(3.9771, 0.06317597570595751)</td>\n",
       "      <td>(6.4838, 0.08296737792770806)</td>\n",
       "      <td>(10.1654, 0.10418981984929634)</td>\n",
       "      <td>(15.3425, 0.12203741684202732)</td>\n",
       "      <td>(22.2457, 0.13206154328210248)</td>\n",
       "      <td>(30.7833, 0.13799245671686705)</td>\n",
       "      <td>(40.2657, 0.12250934668095625)</td>\n",
       "    </tr>\n",
       "  </tbody>\n",
       "</table>\n",
       "</div>"
      ],
      "text/plain": [
       "                                   70                             80   \\\n",
       "EurPut                          2.3115                          3.951   \n",
       "uni_8                           2.3307                         3.9669   \n",
       "uni_16                          2.3361                          3.976   \n",
       "multi_8   (2.3299, 0.0467557539815071)  (3.9658, 0.06414106403553295)   \n",
       "multi_16  (2.337, 0.04611083021846945)  (3.9771, 0.06317597570595751)   \n",
       "\n",
       "                                    90                              100  \\\n",
       "EurPut                            6.458                         10.1339   \n",
       "uni_8                            6.4807                         10.1554   \n",
       "uni_16                           6.4854                         10.1667   \n",
       "multi_8    (6.475, 0.08377779298827794)   (10.156, 0.10471050766120756)   \n",
       "multi_16  (6.4838, 0.08296737792770806)  (10.1654, 0.10418981984929634)   \n",
       "\n",
       "                                     110                             120  \\\n",
       "EurPut                            15.318                         22.2557   \n",
       "uni_8                            15.3406                          22.273   \n",
       "uni_16                           15.3493                         22.2675   \n",
       "multi_8      (15.333, 0.123882635568629)    (22.251, 0.1351963948910728)   \n",
       "multi_16  (15.3425, 0.12203741684202732)  (22.2457, 0.13206154328210248)   \n",
       "\n",
       "                                     130                             140  \n",
       "EurPut                           30.7883                         40.2863  \n",
       "uni_8                            30.8083                         40.2961  \n",
       "uni_16                           30.8154                          40.285  \n",
       "multi_8   (30.8081, 0.14226043076194636)  (40.2906, 0.13433016167914338)  \n",
       "multi_16  (30.7833, 0.13799245671686705)  (40.2657, 0.12250934668095625)  "
      ]
     },
     "execution_count": 106,
     "metadata": {},
     "output_type": "execute_result"
    }
   ],
   "source": [
    "df_us_mk.T"
   ]
  },
  {
   "cell_type": "code",
   "execution_count": null,
   "id": "443dcac1",
   "metadata": {},
   "outputs": [],
   "source": [
    "#eur_premia = np.array([12.45, 15.33, 18.64, 22.40, 26.54, 30.97, 35.61, 40.39, 45.25, 50.17])"
   ]
  },
  {
   "cell_type": "markdown",
   "id": "7a369101",
   "metadata": {},
   "source": [
    "# Longstaff-Schwartz "
   ]
  },
  {
   "cell_type": "markdown",
   "id": "442799a5",
   "metadata": {},
   "source": [
    "## univariate"
   ]
  },
  {
   "cell_type": "code",
   "execution_count": 66,
   "id": "7455d760",
   "metadata": {},
   "outputs": [],
   "source": [
    "def longstaff_schwartz(stockprice, exercise_dates, K, dimension=5, T=1, r=0.):\n",
    "    M = stockprice.shape[0]\n",
    "    J = stockprice.shape[1] - 1\n",
    "    N = exercise_dates\n",
    "    dt = T / N\n",
    "    n = J // N  # discretizing steps per period\n",
    "    \n",
    "    if n * N != J:\n",
    "        raise Exception(\"Error: number of exercise dates and number of steps per period do not match!\")\n",
    "    \n",
    "    S = stockprice[:,::int(n)] \n",
    "    payoff = np.fmax(K-S, 0)\n",
    "    stop = np.full(M, N)\n",
    "    #itm0 = np.where(payoff[:,N] > 0)[0]\n",
    "    #stop[itm0] = N\n",
    "    cf = np.zeros((M, N+1))\n",
    "    cont_array = np.zeros((M,N+1))\n",
    "    stop_array = np.full(shape=(M,N+1), fill_value = 0)\n",
    "    coeff_array = []\n",
    "    for i in range(N, 0, -1):\n",
    "        itm = np.where(payoff[:,i-1] > 0)[0]\n",
    "        if len(itm) == 0:\n",
    "            pass\n",
    "        else:\n",
    "            x = S[:,i-1][itm]\n",
    "            y = payoff[itm, stop[itm]] * np.exp(-r * dt * (stop[itm]-i+1))\n",
    "            coeffs = np.polyfit(x, y, dimension)\n",
    "            coeff_array.insert(0,coeffs)\n",
    "            cont = np.zeros(M)\n",
    "            cont[itm] = np.polyval(coeffs, x) \n",
    "            cont_array[itm, i-1] = np.polyval(coeffs, x) \n",
    "            exercise = payoff[:,i-1]\n",
    "            early_ex = np.where(exercise >= cont)[0]\n",
    "            intersect = np.intersect1d(itm, early_ex)\n",
    "            stop[intersect] = i-1\n",
    "            stop_array[intersect, i-1] = 1 \n",
    "    #paths = np.where(stop < np.inf)[0]\n",
    "    #ls = [int(i) for i in stop[paths]]\n",
    "    disc_payoff = payoff[np.arange(M), stop] * np.exp(-r * dt * stop)\n",
    "    p = np.mean(disc_payoff)\n",
    "    mc_err = 1.96 * np.std(disc_payoff) / np.sqrt(M)\n",
    "    return np.round(p, 4), mc_err #, disc_payoff, stop, cont_array, stop_array, coeff_array #\"Monte Carlo Error: {:%}\".format(mc_err)"
   ]
  },
  {
   "cell_type": "markdown",
   "id": "e5661046",
   "metadata": {},
   "source": [
    "## multivariate"
   ]
  },
  {
   "cell_type": "code",
   "execution_count": 67,
   "id": "93be4577",
   "metadata": {},
   "outputs": [],
   "source": [
    "from sklearn.preprocessing import PolynomialFeatures\n",
    "from sklearn.linear_model import LinearRegression"
   ]
  },
  {
   "cell_type": "code",
   "execution_count": 133,
   "id": "3f00690b",
   "metadata": {},
   "outputs": [],
   "source": [
    "def longstaff_schwartz_multivariate(stockprice, volatility, exercise_dates, K, dimension='m2', T=1, r=0.):\n",
    "    M = stockprice.shape[0]\n",
    "    J = stockprice.shape[1] - 1\n",
    "    N = exercise_dates\n",
    "    dt = T / N\n",
    "    n = J // N  # discretizing steps per period\n",
    "    \n",
    "    if n * N != J:\n",
    "        raise Exception(\"Error: number of exercise dates and number of steps per period do not match!\")\n",
    "    \n",
    "    S = stockprice[:,::int(n)] \n",
    "    v = volatility[:,::int(n)]\n",
    "    payoff = np.fmax(K-S, 0)\n",
    "    stop = np.full(M, N)\n",
    "\n",
    "    cf = np.zeros((M, N+1))\n",
    "    cont_array = np.zeros((M,N+1))\n",
    "    stop_array = np.full(shape=(M,N+1), fill_value = 0)\n",
    "    coeff_array = []\n",
    "    for i in range(N, 0, -1):\n",
    "        itm = np.where(payoff[:,i-1] > 0)[0]\n",
    "        if len(itm) == 0:\n",
    "            pass\n",
    "        else:\n",
    "            x1 = S[:,i-1][itm]\n",
    "            x2 = v[:,i-1][itm]\n",
    "            y = payoff[itm, stop[itm]] * np.exp(-r * dt * (stop[itm]-i+1))\n",
    "            j = len(itm)\n",
    "            if dimension == 'm1':\n",
    "                X_1 = np.vstack((np.ones(j), x1, x2, x1**2, x1*x2))\n",
    "            if dimension == 'm2':\n",
    "                X_1 = np.vstack((np.ones(j), x1, x2, x1**2, x1**3, x1**4, x1**5, x1**6, x1*x2))\n",
    "            if dimension == 'm3':\n",
    "                X_1 = np.vstack((np.ones(j), x1, x2, x1**2, x1*x2, x1**2 * x2, x1**3))\n",
    "\n",
    "            X = X_1.T #transform\n",
    "            regModel = LinearRegression()\n",
    "            regModel.fit(X, y) # fit the model\n",
    "\n",
    "            # get expected continuation values\n",
    "            cont = np.zeros(M)\n",
    "            cont[itm] = regModel.predict(X) \n",
    "            cont_array[itm, i-1] = regModel.predict(X)  \n",
    "            \n",
    "            exercise = payoff[:,i-1]\n",
    "            early_ex = np.where(exercise >= cont)[0]\n",
    "            intersect = np.intersect1d(itm, early_ex)\n",
    "            stop[intersect] = i-1\n",
    "            stop_array[intersect, i-1] = 1 \n",
    "    disc_payoff = payoff[np.arange(M), stop] * np.exp(-r * dt * stop)\n",
    "    p = np.mean(disc_payoff)\n",
    "    mc_err = 1.96 * np.std(disc_payoff) / np.sqrt(M)\n",
    "    return np.round(p, 4), mc_err"
   ]
  },
  {
   "cell_type": "markdown",
   "id": "d3f970b0",
   "metadata": {},
   "source": [
    "# Option Prices Experiments"
   ]
  },
  {
   "cell_type": "code",
   "execution_count": null,
   "id": "2d55a45f",
   "metadata": {},
   "outputs": [],
   "source": [
    "H = 0.07 \n",
    "T = 1  \n",
    "eta = 1.9\n",
    "rho = -0.9\n",
    "V0 = 0.09\n",
    "S0 = 100\n",
    "r = 0.05\n",
    "N = 6\n",
    "time_steps = 500\n",
    "M = 500000 # number of simulated paths"
   ]
  },
  {
   "cell_type": "code",
   "execution_count": null,
   "id": "2a9f3ef9",
   "metadata": {},
   "outputs": [],
   "source": [
    "# Markovian approximation of rBergomi model\n",
    "model_markov = rBergomi_markovian(H, T, eta, rho, nodes, weights, time_steps, V0, S0, M)"
   ]
  },
  {
   "cell_type": "code",
   "execution_count": null,
   "id": "2fb71bca",
   "metadata": {},
   "outputs": [],
   "source": [
    "# Rough Bergomi model\n",
    "model_rB = rBergomi(H, T, time_steps, M, S0, V0, rho, eta)"
   ]
  },
  {
   "cell_type": "code",
   "execution_count": null,
   "id": "b382f273",
   "metadata": {},
   "outputs": [],
   "source": [
    "# stock price paths and volatility paths\n",
    "stp_mk = model_markov[0]\n",
    "vol_mk = model_markov[1]\n",
    "stp_rB = model_rB[0]\n",
    "vol_rB = model_rB[1]"
   ]
  },
  {
   "cell_type": "code",
   "execution_count": null,
   "id": "7a33cc25",
   "metadata": {},
   "outputs": [],
   "source": [
    "K = np.arange(70, 160, 10)\n",
    "l = len(K)\n",
    "\n",
    "eur_mk = np.zeros(l)\n",
    "eur_rB = np.zeros(l)\n",
    "\n",
    "for k in range(l):\n",
    "    eur_mk[k] = european_put(1, stp_mk, K[k])\n",
    "    eur_rB[k] = european_put(1, stp_rB, K[k])"
   ]
  },
  {
   "cell_type": "code",
   "execution_count": null,
   "id": "5e6ce84b",
   "metadata": {},
   "outputs": [],
   "source": [
    "eur_mk"
   ]
  },
  {
   "cell_type": "code",
   "execution_count": null,
   "id": "f6bee09c",
   "metadata": {},
   "outputs": [],
   "source": [
    "eur_rB"
   ]
  }
 ],
 "metadata": {
  "kernelspec": {
   "display_name": "Python 3 (ipykernel)",
   "language": "python",
   "name": "python3"
  },
  "language_info": {
   "codemirror_mode": {
    "name": "ipython",
    "version": 3
   },
   "file_extension": ".py",
   "mimetype": "text/x-python",
   "name": "python",
   "nbconvert_exporter": "python",
   "pygments_lexer": "ipython3",
   "version": "3.9.13"
  },
  "toc": {
   "base_numbering": 1,
   "nav_menu": {},
   "number_sections": true,
   "sideBar": true,
   "skip_h1_title": false,
   "title_cell": "Table of Contents",
   "title_sidebar": "Contents",
   "toc_cell": false,
   "toc_position": {
    "height": "calc(100% - 180px)",
    "left": "10px",
    "top": "150px",
    "width": "165px"
   },
   "toc_section_display": true,
   "toc_window_display": false
  }
 },
 "nbformat": 4,
 "nbformat_minor": 5
}
