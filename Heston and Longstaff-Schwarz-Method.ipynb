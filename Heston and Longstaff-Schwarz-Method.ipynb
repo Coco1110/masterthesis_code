{
 "cells": [
  {
   "cell_type": "code",
   "execution_count": 1,
   "id": "e6781bad",
   "metadata": {},
   "outputs": [],
   "source": [
    "import numpy as np\n",
    "import pandas as pd\n",
    "import matplotlib.pyplot as plt\n",
    "import time\n",
    "import random\n",
    "\n",
    "from sklearn.preprocessing import PolynomialFeatures\n",
    "from sklearn.linear_model import LinearRegression\n",
    "from sklearn.metrics import mean_squared_error\n",
    "\n",
    "import warnings\n",
    "warnings.simplefilter('ignore', np.RankWarning)"
   ]
  },
  {
   "cell_type": "markdown",
   "id": "15be57dd",
   "metadata": {},
   "source": [
    "# Basic Heston model"
   ]
  },
  {
   "cell_type": "markdown",
   "id": "1e3b9e42",
   "metadata": {},
   "source": [
    "paper: https://frouah.com/finance%20notes/Euler%20and%20Milstein%20Discretization.pdf <br>\n",
    "https://quantpy.com.au/stochastic-volatility-models/simulating-heston-model-in-python/"
   ]
  },
  {
   "cell_type": "code",
   "execution_count": 5,
   "id": "44b71e04",
   "metadata": {},
   "outputs": [],
   "source": [
    "def heston_samples(S0, T, N, M, r=0.02, rho=0.7, kappa=3, theta=0.04, sigma=0.6, v0=0.0625):\n",
    "    dt = T/N\n",
    "    S = np.full(shape=(M,N+1), fill_value=S0)\n",
    "    v = np.full(shape=(M,N+1), fill_value=v0)\n",
    "    for i in range(N):\n",
    "        Z1 = np.random.normal(0, 1, M)\n",
    "        Z2 = np.random.normal(0, 1, M)\n",
    "        Zv = Z1\n",
    "        Zs = rho*Z1 + np.sqrt(1-rho**2)*Z2\n",
    "        v[:,i+1] = np.fmax(v[:,i] + kappa*(theta-v[:,i])*dt + sigma*np.sqrt(v[:,i]*dt)*Zv, 0)\n",
    "        S[:,i+1] = S[:,i] * np.exp((r - 0.5*v[:,i])*dt + np.sqrt(v[:,i]*dt)*Zs)\n",
    "    return S, v"
   ]
  },
  {
   "cell_type": "markdown",
   "id": "ea4fa003",
   "metadata": {},
   "source": [
    "## LongstaffSchwartz Pricing"
   ]
  },
  {
   "cell_type": "code",
   "execution_count": 8,
   "id": "de2d277b",
   "metadata": {},
   "outputs": [],
   "source": [
    "def longstaff_schwartz(T, r, stockprice, exercise_dates, K, dimension):\n",
    "    M = stockprice.shape[0]\n",
    "    J = stockprice.shape[1] - 1\n",
    "    N = exercise_dates\n",
    "    dt = T / N\n",
    "    n = J // N  # discretizing steps per period\n",
    "    \n",
    "    if n * N != J:\n",
    "        raise Exception(\"Error: number of exercise dates and number of steps per period do not match!\")\n",
    "    \n",
    "    S = stockprice[:,::int(n)] \n",
    "    payoff = np.fmax(K-S, 0)\n",
    "    stop = np.full(M, N)\n",
    "    #itm0 = np.where(payoff[:,N] > 0)[0]\n",
    "    #stop[itm0] = N\n",
    "    cf = np.zeros((M, N+1))\n",
    "    cont_array = np.zeros((M,N+1))\n",
    "    stop_array = np.full(shape=(M,N+1), fill_value = 0)\n",
    "    coeff_array = []\n",
    "    for i in range(N, 0, -1):\n",
    "        itm = np.where(payoff[:,i-1] > 0)[0]\n",
    "        if len(itm) == 0:\n",
    "            pass\n",
    "        else:\n",
    "            x = S[:,i-1][itm]\n",
    "            y = payoff[itm, stop[itm]] * np.exp(-r * dt * (stop[itm]-i+1))\n",
    "            coeffs = np.polyfit(x, y, dimension)\n",
    "            coeff_array.insert(0,coeffs)\n",
    "            cont = np.zeros(M)\n",
    "            cont[itm] = np.polyval(coeffs, x) \n",
    "            cont_array[itm, i-1] = np.polyval(coeffs, x) \n",
    "            exercise = payoff[:,i-1]\n",
    "            early_ex = np.where(exercise >= cont)[0]\n",
    "            intersect = np.intersect1d(itm, early_ex)\n",
    "            stop[intersect] = i-1\n",
    "            stop_array[intersect, i-1] = 1 \n",
    "    #paths = np.where(stop < np.inf)[0]\n",
    "    #ls = [int(i) for i in stop[paths]]\n",
    "    disc_payoff = payoff[np.arange(M), stop] * np.exp(-r * dt * stop)\n",
    "    p = np.mean(disc_payoff)\n",
    "    mc_err = 1.96 * np.std(disc_payoff) / np.sqrt(M)\n",
    "    return np.round(p, 4), disc_payoff, stop, cont_array, stop_array, coeff_array #\"Monte Carlo Error: {:%}\".format(mc_err)"
   ]
  },
  {
   "cell_type": "code",
   "execution_count": 9,
   "id": "9c40a2df",
   "metadata": {},
   "outputs": [],
   "source": [
    "def longstaff_schwartz_multivariate(T, r, stockprice, volatility, exercise_dates, K, dimension):\n",
    "    M = stockprice.shape[0]\n",
    "    J = stockprice.shape[1] - 1\n",
    "    N = exercise_dates\n",
    "    dt = T / N\n",
    "    n = J // N  # discretizing steps per period\n",
    "    \n",
    "    if n * N != J:\n",
    "        raise Exception(\"Error: number of exercise dates and number of steps per period do not match!\")\n",
    "    \n",
    "    S = stockprice[:,::int(n)] \n",
    "    v = volatility[:,::int(n)]\n",
    "    payoff = np.fmax(K-S, 0)\n",
    "    stop = np.full(M, N)\n",
    "\n",
    "    cf = np.zeros((M, N+1))\n",
    "    cont_array = np.zeros((M,N+1))\n",
    "    stop_array = np.full(shape=(M,N+1), fill_value = 0)\n",
    "    coeff_array = []\n",
    "    for i in range(N, 0, -1):\n",
    "        itm = np.where(payoff[:,i-1] > 0)[0]\n",
    "        if len(itm) == 0:\n",
    "            pass\n",
    "        else:\n",
    "            x1 = S[:,i-1][itm]\n",
    "            x2 = v[:,i-1][itm]\n",
    "            y = payoff[itm, stop[itm]] * np.exp(-r * dt * (stop[itm]-i+1))\n",
    "            j = len(itm)\n",
    "            if dimension == 'm1':\n",
    "                X_1 = np.vstack((np.ones(j), x1, x2, x1**2, x1*x2))\n",
    "            if dimension == 'm2':\n",
    "                X_1 = np.vstack((np.ones(j), x1, x2, x1**2, x1**3, x1**4, x1*x2, x1**2 * x2))\n",
    "            if dimension == 'm3':\n",
    "                X_1 = np.vstack((np.ones(j), x1, x2, x1**2, x1*x2, x1**2 * x2, x1**3))\n",
    "\n",
    "            X = X_1.T #transform\n",
    "            regModel = LinearRegression()\n",
    "            regModel.fit(X, y) # fit the model\n",
    "\n",
    "            # get expected continuation values\n",
    "            cont = np.zeros(M)\n",
    "            cont[itm] = regModel.predict(X) \n",
    "            cont_array[itm, i-1] = regModel.predict(X)  \n",
    "            \n",
    "            exercise = payoff[:,i-1]\n",
    "            early_ex = np.where(exercise >= cont)[0]\n",
    "            intersect = np.intersect1d(itm, early_ex)\n",
    "            stop[intersect] = i-1\n",
    "            stop_array[intersect, i-1] = 1 \n",
    "    disc_payoff = payoff[np.arange(M), stop] * np.exp(-r * dt * stop)\n",
    "    p = np.mean(disc_payoff)\n",
    "    mc_err = 1.96 * np.std(disc_payoff) / np.sqrt(M)\n",
    "    return np.round(p, 4), \"Monte Carlo Error: {:%}\".format(mc_err)"
   ]
  },
  {
   "cell_type": "code",
   "execution_count": 11,
   "id": "4233eb88",
   "metadata": {},
   "outputs": [],
   "source": [
    "S0 = 100.0          \n",
    "T = 1.0                \n",
    "N = 500\n",
    "M = 500000\n",
    "\n",
    "r = 0.02 \n",
    "kappa = 3              # rate of mean reversion of variance under risk-neutral dynamics\n",
    "theta = 0.04        # long-term mean of variance under risk-neutral dynamics\n",
    "v0 = 0.0625          # initial variance under risk-neutral dynamics\n",
    "rho = 0.7              # correlation between returns and variances under risk-neutral dynamics\n",
    "sigma = 0.6   "
   ]
  },
  {
   "cell_type": "code",
   "execution_count": 12,
   "id": "a71e347e",
   "metadata": {},
   "outputs": [],
   "source": [
    "model = heston_samples(S0, T, N, M)"
   ]
  },
  {
   "cell_type": "code",
   "execution_count": 13,
   "id": "eae9d7b1",
   "metadata": {},
   "outputs": [],
   "source": [
    "stockprices = model[0]\n",
    "variance = model[1]"
   ]
  },
  {
   "cell_type": "markdown",
   "id": "085591b1",
   "metadata": {},
   "source": [
    "### Results"
   ]
  },
  {
   "cell_type": "code",
   "execution_count": 15,
   "id": "7d4cd1bf",
   "metadata": {},
   "outputs": [
    {
     "name": "stdout",
     "output_type": "stream",
     "text": [
      "1\n",
      "exercise dates 5 :  13.883\n",
      "exercise dates 10 :  13.8718\n",
      "exercise dates 20 :  13.8419\n",
      "exercise dates 25 :  13.8235\n",
      "exercise dates 50 :  13.7856\n",
      "-------------------------\n",
      "2\n",
      "exercise dates 5 :  13.9222\n",
      "exercise dates 10 :  13.9412\n",
      "exercise dates 20 :  13.9372\n",
      "exercise dates 25 :  13.9289\n",
      "exercise dates 50 :  13.9127\n",
      "-------------------------\n",
      "3\n",
      "exercise dates 5 :  13.9385\n",
      "exercise dates 10 :  13.962\n",
      "exercise dates 20 :  13.9692\n",
      "exercise dates 25 :  13.9687\n",
      "exercise dates 50 :  13.9623\n",
      "-------------------------\n",
      "4\n",
      "exercise dates 5 :  13.9393\n",
      "exercise dates 10 :  13.9608\n",
      "exercise dates 20 :  13.9713\n",
      "exercise dates 25 :  13.9694\n",
      "exercise dates 50 :  13.9703\n",
      "-------------------------\n",
      "5\n",
      "exercise dates 5 :  13.9399\n",
      "exercise dates 10 :  13.9591\n",
      "exercise dates 20 :  13.9711\n",
      "exercise dates 25 :  13.9714\n",
      "exercise dates 50 :  13.9751\n",
      "-------------------------\n"
     ]
    }
   ],
   "source": [
    "for d in range(1,6,1):\n",
    "    print(d)\n",
    "    for ex in [5,10,20,25,50]:\n",
    "        print('exercise dates', ex, ': ', longstaff_schwartz(T, r, stockprices, ex, 110, d)[0])\n",
    "    print('-------------------------')"
   ]
  },
  {
   "cell_type": "markdown",
   "id": "88222c89",
   "metadata": {},
   "source": [
    "Premia: PutAmer/ MC_AM_Alfonsi_LongstaffSchwartz <br>\n",
    "N Simulations: 500000, N Exercise Dates: [5, 10, 20, 25, 50], Dimension Approx: 10 <br>\n",
    "Strike: 110 <br>\n",
    "Price: 13.9872, 14.0338, 14.0255, 14.0434, 14.0474 <br>\n",
    "Strike: 120 <br>\n",
    "Price: 22.1177, 22.1897, 22.1962, 22.1956, 22.22<br>\n",
    "Strike: 130 <br>\n",
    "Price: 31.0203, 31.1327, 31.1504, 31.1475, 31.1777<br>\n",
    "Strike: 140 <br>\n",
    "Price: 40.3652, 40.4988, 40.5189, 40.5323, 40.5681<br>\n",
    "Strike: 100 <br>\n",
    "Price: 7.1822, 7.2030, 7.2145, 7.2249, 7.2271<br>\n",
    "Strike: 90 <br>\n",
    "Price: 2.5177, 2.5175, 2.5275, 2.5325, 2.5277<br>\n",
    "Strike: 80 <br>\n",
    "Price: 0.4578, 0.4572, 0.4576, 0.4585, 0.4588<br>\n",
    "Strike: 70 <br>\n",
    "Price: 0.03868, 0.03849, 0.03888, 0.03791, 0.03840<br>"
   ]
  },
  {
   "cell_type": "code",
   "execution_count": 22,
   "id": "cc2326bf",
   "metadata": {},
   "outputs": [],
   "source": [
    "us_premia = np.zeros((5,8))"
   ]
  },
  {
   "cell_type": "code",
   "execution_count": 23,
   "id": "2cbe9946",
   "metadata": {},
   "outputs": [],
   "source": [
    "us_premia[:,0] = [0.03868, 0.03849, 0.03888, 0.03791, 0.03840]\n",
    "us_premia[:,1] = [0.4578, 0.4572, 0.4576, 0.4585, 0.4588]\n",
    "us_premia[:,2] = [2.5177, 2.5175, 2.5275, 2.5325, 2.5277]\n",
    "us_premia[:,3] = [7.1822, 7.2030, 7.2145, 7.2249, 7.2271]\n",
    "us_premia[:,4] = [13.9872, 14.0338, 14.0255, 14.0434, 14.0474 ]\n",
    "us_premia[:,5] = [22.1177, 22.1897, 22.1962, 22.1956, 22.22]\n",
    "us_premia[:,6] = [31.0203, 31.1327, 31.1504, 31.1475, 31.1777]\n",
    "us_premia[:,7] = [40.3652, 40.4988, 40.5189, 40.5323, 40.5681]"
   ]
  },
  {
   "cell_type": "code",
   "execution_count": 30,
   "id": "6eb9761c",
   "metadata": {},
   "outputs": [],
   "source": [
    "df1 = pd.DataFrame({'70': us_premia[:, 0], '80': us_premia[:, 1], \n",
    "             '90': us_premia[:, 2], '100': us_premia[:, 3],\n",
    "             '110': us_premia[:, 4], '120': us_premia[:, 5],\n",
    "             '130': us_premia[:, 6], '140': us_premia[:, 7]}, index=[5, 10, 20, 25, 50])"
   ]
  },
  {
   "cell_type": "code",
   "execution_count": 29,
   "id": "11b9446d",
   "metadata": {},
   "outputs": [],
   "source": [
    "P = np.zeros((5,8))\n",
    "exercise_dates = [5,10,20,25,50]\n",
    "K = np.arange(70,150,10)\n",
    "for k in range(len(K)):\n",
    "    print(k)\n",
    "    for i in range(len(exercise_dates)):\n",
    "        print(i)\n",
    "        P[i,k] = longstaff_schwartz_multivariate(T, r, stockprices, variance, exercise_dates[i], K[k], 'm2')[0]"
   ]
  },
  {
   "cell_type": "code",
   "execution_count": 31,
   "id": "8eb6afe2",
   "metadata": {},
   "outputs": [],
   "source": [
    "# American Put \n",
    "df2 = pd.DataFrame({'70': P[:, 0], '80': P[:, 1], \n",
    "             '90': P[:, 2], '100': P[:, 3],\n",
    "             '110': P[:, 4], '120': P[:, 5],\n",
    "             '130': P[:, 6], '140': P[:, 7]}, index=[5, 10, 20, 25, 50])"
   ]
  },
  {
   "cell_type": "code",
   "execution_count": 33,
   "id": "cdaf5a92",
   "metadata": {},
   "outputs": [],
   "source": [
    "df = pd.concat([df2, df1], axis=1)"
   ]
  },
  {
   "cell_type": "code",
   "execution_count": 36,
   "id": "f960bff5",
   "metadata": {},
   "outputs": [],
   "source": [
    "df.columns = [['LongstaffSchwartz', 'LongstaffSchwartz', 'LongstaffSchwartz', 'LongstaffSchwartz', 'LongstaffSchwartz', 'LongstaffSchwartz', 'LongstaffSchwartz', 'LongstaffSchwartz',\n",
    "               ' PutAmerPremia',' PutAmerPremia',' PutAmerPremia',' PutAmerPremia',' PutAmerPremia',' PutAmerPremia',' PutAmerPremia',' PutAmerPremia']\n",
    "        ,['70', '80', '90', '100', '110', '120', '130', '140', '70', '80', '90',\n",
    "       '100', '110', '120', '130', '140']]"
   ]
  },
  {
   "cell_type": "code",
   "execution_count": 57,
   "id": "7505810a",
   "metadata": {},
   "outputs": [
    {
     "data": {
      "text/html": [
       "<div>\n",
       "<style scoped>\n",
       "    .dataframe tbody tr th:only-of-type {\n",
       "        vertical-align: middle;\n",
       "    }\n",
       "\n",
       "    .dataframe tbody tr th {\n",
       "        vertical-align: top;\n",
       "    }\n",
       "\n",
       "    .dataframe thead tr th {\n",
       "        text-align: left;\n",
       "    }\n",
       "</style>\n",
       "<table border=\"1\" class=\"dataframe\">\n",
       "  <thead>\n",
       "    <tr>\n",
       "      <th></th>\n",
       "      <th colspan=\"8\" halign=\"left\">LongstaffSchwartz</th>\n",
       "      <th colspan=\"8\" halign=\"left\">PutAmerPremia</th>\n",
       "    </tr>\n",
       "    <tr>\n",
       "      <th></th>\n",
       "      <th>70</th>\n",
       "      <th>80</th>\n",
       "      <th>90</th>\n",
       "      <th>100</th>\n",
       "      <th>110</th>\n",
       "      <th>120</th>\n",
       "      <th>130</th>\n",
       "      <th>140</th>\n",
       "      <th>70</th>\n",
       "      <th>80</th>\n",
       "      <th>90</th>\n",
       "      <th>100</th>\n",
       "      <th>110</th>\n",
       "      <th>120</th>\n",
       "      <th>130</th>\n",
       "      <th>140</th>\n",
       "    </tr>\n",
       "  </thead>\n",
       "  <tbody>\n",
       "    <tr>\n",
       "      <th>5</th>\n",
       "      <td>0.04</td>\n",
       "      <td>0.46</td>\n",
       "      <td>2.53</td>\n",
       "      <td>7.21</td>\n",
       "      <td>14.00</td>\n",
       "      <td>22.13</td>\n",
       "      <td>31.06</td>\n",
       "      <td>40.40</td>\n",
       "      <td>0.04</td>\n",
       "      <td>0.46</td>\n",
       "      <td>2.52</td>\n",
       "      <td>7.18</td>\n",
       "      <td>13.99</td>\n",
       "      <td>22.12</td>\n",
       "      <td>31.02</td>\n",
       "      <td>40.37</td>\n",
       "    </tr>\n",
       "    <tr>\n",
       "      <th>10</th>\n",
       "      <td>0.04</td>\n",
       "      <td>0.47</td>\n",
       "      <td>2.55</td>\n",
       "      <td>7.23</td>\n",
       "      <td>14.04</td>\n",
       "      <td>22.19</td>\n",
       "      <td>31.13</td>\n",
       "      <td>40.50</td>\n",
       "      <td>0.04</td>\n",
       "      <td>0.46</td>\n",
       "      <td>2.52</td>\n",
       "      <td>7.20</td>\n",
       "      <td>14.03</td>\n",
       "      <td>22.19</td>\n",
       "      <td>31.13</td>\n",
       "      <td>40.50</td>\n",
       "    </tr>\n",
       "    <tr>\n",
       "      <th>20</th>\n",
       "      <td>0.04</td>\n",
       "      <td>0.47</td>\n",
       "      <td>2.55</td>\n",
       "      <td>7.24</td>\n",
       "      <td>14.05</td>\n",
       "      <td>22.22</td>\n",
       "      <td>31.15</td>\n",
       "      <td>40.53</td>\n",
       "      <td>0.04</td>\n",
       "      <td>0.46</td>\n",
       "      <td>2.53</td>\n",
       "      <td>7.21</td>\n",
       "      <td>14.03</td>\n",
       "      <td>22.20</td>\n",
       "      <td>31.15</td>\n",
       "      <td>40.52</td>\n",
       "    </tr>\n",
       "    <tr>\n",
       "      <th>25</th>\n",
       "      <td>0.04</td>\n",
       "      <td>0.47</td>\n",
       "      <td>2.55</td>\n",
       "      <td>7.25</td>\n",
       "      <td>14.06</td>\n",
       "      <td>22.21</td>\n",
       "      <td>31.17</td>\n",
       "      <td>40.55</td>\n",
       "      <td>0.04</td>\n",
       "      <td>0.46</td>\n",
       "      <td>2.53</td>\n",
       "      <td>7.22</td>\n",
       "      <td>14.04</td>\n",
       "      <td>22.20</td>\n",
       "      <td>31.15</td>\n",
       "      <td>40.53</td>\n",
       "    </tr>\n",
       "    <tr>\n",
       "      <th>50</th>\n",
       "      <td>0.04</td>\n",
       "      <td>0.47</td>\n",
       "      <td>2.56</td>\n",
       "      <td>7.25</td>\n",
       "      <td>14.06</td>\n",
       "      <td>22.22</td>\n",
       "      <td>31.18</td>\n",
       "      <td>40.55</td>\n",
       "      <td>0.04</td>\n",
       "      <td>0.46</td>\n",
       "      <td>2.53</td>\n",
       "      <td>7.23</td>\n",
       "      <td>14.05</td>\n",
       "      <td>22.22</td>\n",
       "      <td>31.18</td>\n",
       "      <td>40.57</td>\n",
       "    </tr>\n",
       "  </tbody>\n",
       "</table>\n",
       "</div>"
      ],
      "text/plain": [
       "   LongstaffSchwartz                                                \\\n",
       "                  70    80    90   100    110    120    130    140   \n",
       "5               0.04  0.46  2.53  7.21  14.00  22.13  31.06  40.40   \n",
       "10              0.04  0.47  2.55  7.23  14.04  22.19  31.13  40.50   \n",
       "20              0.04  0.47  2.55  7.24  14.05  22.22  31.15  40.53   \n",
       "25              0.04  0.47  2.55  7.25  14.06  22.21  31.17  40.55   \n",
       "50              0.04  0.47  2.56  7.25  14.06  22.22  31.18  40.55   \n",
       "\n",
       "    PutAmerPremia                                                \n",
       "               70    80    90   100    110    120    130    140  \n",
       "5            0.04  0.46  2.52  7.18  13.99  22.12  31.02  40.37  \n",
       "10           0.04  0.46  2.52  7.20  14.03  22.19  31.13  40.50  \n",
       "20           0.04  0.46  2.53  7.21  14.03  22.20  31.15  40.52  \n",
       "25           0.04  0.46  2.53  7.22  14.04  22.20  31.15  40.53  \n",
       "50           0.04  0.46  2.53  7.23  14.05  22.22  31.18  40.57  "
      ]
     },
     "execution_count": 57,
     "metadata": {},
     "output_type": "execute_result"
    }
   ],
   "source": [
    "df.round(decimals=2)"
   ]
  },
  {
   "cell_type": "code",
   "execution_count": 58,
   "id": "b1c5f7ff",
   "metadata": {},
   "outputs": [
    {
     "data": {
      "text/plain": [
       "-0.011718750000000111"
      ]
     },
     "execution_count": 58,
     "metadata": {},
     "output_type": "execute_result"
    }
   ],
   "source": [
    "2.53/2.56 - 1"
   ]
  },
  {
   "cell_type": "code",
   "execution_count": 59,
   "id": "2cb582a8",
   "metadata": {},
   "outputs": [
    {
     "data": {
      "text/plain": [
       "0.0012894906511926596"
      ]
     },
     "execution_count": 59,
     "metadata": {},
     "output_type": "execute_result"
    }
   ],
   "source": [
    "31.06/31.02 - 1"
   ]
  },
  {
   "cell_type": "code",
   "execution_count": 8,
   "id": "b717ba0a",
   "metadata": {},
   "outputs": [
    {
     "name": "stdout",
     "output_type": "stream",
     "text": [
      "70\n",
      "exercise dates 5 :  0.039\n",
      "exercise dates 10 :  0.0392\n",
      "exercise dates 20 :  0.0393\n",
      "exercise dates 25 :  0.0396\n",
      "exercise dates 50 :  0.0397\n",
      "-------------------------\n",
      "80\n",
      "exercise dates 5 :  0.4675\n",
      "exercise dates 10 :  0.4698\n",
      "exercise dates 20 :  0.47\n",
      "exercise dates 25 :  0.4714\n",
      "exercise dates 50 :  0.4716\n",
      "-------------------------\n",
      "90\n",
      "exercise dates 5 :  2.541\n",
      "exercise dates 10 :  2.5506\n",
      "exercise dates 20 :  2.5584\n",
      "exercise dates 25 :  2.5593\n",
      "exercise dates 50 :  2.561\n",
      "-------------------------\n",
      "100\n",
      "exercise dates 5 :  7.2158\n",
      "exercise dates 10 :  7.2383\n",
      "exercise dates 20 :  7.2498\n",
      "exercise dates 25 :  7.2523\n",
      "exercise dates 50 :  7.2578\n",
      "-------------------------\n"
     ]
    }
   ],
   "source": [
    "for k in range(70, 110, 10):\n",
    "    print(k)\n",
    "    for ex in [5,10,20,25,50]:\n",
    "        print('exercise dates', ex, ': ', longstaff_schwartz_multivariate(T, r, stockprices, variance, ex, k, 'm2')[0])\n",
    "    print('-------------------------')"
   ]
  },
  {
   "cell_type": "code",
   "execution_count": 9,
   "id": "db6269db",
   "metadata": {},
   "outputs": [
    {
     "name": "stdout",
     "output_type": "stream",
     "text": [
      "110\n",
      "exercise dates 5 :  14.0057\n",
      "exercise dates 10 :  14.0451\n",
      "exercise dates 20 :  14.0592\n",
      "exercise dates 25 :  14.0573\n",
      "exercise dates 50 :  14.0658\n",
      "-------------------------\n",
      "120\n",
      "exercise dates 5 :  22.1394\n",
      "exercise dates 10 :  22.195\n",
      "exercise dates 20 :  22.2143\n",
      "exercise dates 25 :  22.2222\n",
      "exercise dates 50 :  22.2285\n",
      "-------------------------\n",
      "130\n",
      "exercise dates 5 :  31.0668\n",
      "exercise dates 10 :  31.128\n",
      "exercise dates 20 :  31.1595\n",
      "exercise dates 25 :  31.1615\n",
      "exercise dates 50 :  31.1804\n",
      "-------------------------\n",
      "140\n",
      "exercise dates 5 :  40.4124\n",
      "exercise dates 10 :  40.4953\n",
      "exercise dates 20 :  40.5456\n",
      "exercise dates 25 :  40.5454\n",
      "exercise dates 50 :  40.5552\n",
      "-------------------------\n"
     ]
    }
   ],
   "source": [
    "for k in range(110, 150, 10):\n",
    "    print(k)\n",
    "    for ex in [5,10,20,25,50]:\n",
    "        print('exercise dates', ex, ': ', longstaff_schwartz_multivariate(T, r, stockprices, variance, ex, k, 'm2')[0])\n",
    "    print('-------------------------')"
   ]
  },
  {
   "cell_type": "markdown",
   "id": "12ee7ffd",
   "metadata": {},
   "source": [
    "Premia: PutEur/ MC_Alfonsi <br>\n",
    "500000 Iterations, 500 TimeStepNumber, KNUTH, Third Order for the CIR <br>\n",
    "Price: 0.03803, 0.4538, 2.4959, 7.0840, 13.7074, 21.5707, 30.1584, 39.1755 "
   ]
  },
  {
   "cell_type": "markdown",
   "id": "6d66c811",
   "metadata": {},
   "source": [
    "Premia: PutAmer / MC_AM_Alfonsi_LongstaffSchwartz <br>\n",
    "500000 Iterations, KNUTH, Dimension 10 <br>\n",
    "Strike: 70 <br>\n",
    "Price: 0.03956, 0.4613, 2.5230"
   ]
  },
  {
   "cell_type": "markdown",
   "id": "8723493d",
   "metadata": {},
   "source": [
    "## European Put"
   ]
  },
  {
   "cell_type": "code",
   "execution_count": 41,
   "id": "75899317",
   "metadata": {},
   "outputs": [],
   "source": [
    "def eur_put_price(T, r, M, S, K):\n",
    "    payoffs = np.fmax(0, K - S[:,-1])\n",
    "    return np.round(np.average(np.exp(-r*T) * payoffs), 5)"
   ]
  },
  {
   "cell_type": "code",
   "execution_count": 43,
   "id": "16537294",
   "metadata": {},
   "outputs": [
    {
     "name": "stdout",
     "output_type": "stream",
     "text": [
      "70 0.03787\n",
      "80 0.46209\n",
      "90 2.51381\n",
      "100 7.10631\n",
      "110 13.72719\n",
      "120 21.59436\n",
      "130 30.18631\n",
      "140 39.20529\n"
     ]
    }
   ],
   "source": [
    "eur_put = []\n",
    "for K in range(70,150,10):\n",
    "    p = eur_put_price(T, r, M, stockprices, K)\n",
    "    eur_put.append(p)\n",
    "    print(K, p)"
   ]
  },
  {
   "cell_type": "code",
   "execution_count": 44,
   "id": "ffc66305",
   "metadata": {},
   "outputs": [],
   "source": [
    "eur_pre = [0.03803, 0.4538, 2.4959, 7.0840, 13.7074, 21.5707, 30.1584, 39.1755]"
   ]
  },
  {
   "cell_type": "markdown",
   "id": "54fbba6f",
   "metadata": {},
   "source": [
    "Premia: PutEur/ MC_Alfonsi <br>\n",
    "500000 Iterations, 500 TimeStepNumber, KNUTH, Third Order for the CIR <br>\n",
    "Price: 0.03803, 0.4538, 2.4959, 7.0840, 13.7074, 21.5707, 30.1584, 39.1755 "
   ]
  },
  {
   "cell_type": "code",
   "execution_count": 52,
   "id": "decf622a",
   "metadata": {},
   "outputs": [],
   "source": [
    "def relative_error(x, x_approx):\n",
    "    err = x_approx / x - 1\n",
    "    return err # \"Relative Error: {:%}\".format(err)"
   ]
  },
  {
   "cell_type": "code",
   "execution_count": 53,
   "id": "3ab82c2d",
   "metadata": {},
   "outputs": [],
   "source": [
    "rel_err = []\n",
    "for i in range(8):\n",
    "    err = relative_error(eur_pre[i], eur_put[i])\n",
    "    rel_err.append(err)"
   ]
  },
  {
   "cell_type": "code",
   "execution_count": 54,
   "id": "1fbb5a7a",
   "metadata": {},
   "outputs": [],
   "source": [
    "data_eu = {'european put': eur_put, 'Premia PutEur': eur_pre, 'relative error': rel_err}"
   ]
  },
  {
   "cell_type": "code",
   "execution_count": 55,
   "id": "06e3f5c6",
   "metadata": {},
   "outputs": [],
   "source": [
    "df_eur = pd.DataFrame(data_eu, index=np.arange(70,150,10))"
   ]
  },
  {
   "cell_type": "code",
   "execution_count": 56,
   "id": "a2a8b9a0",
   "metadata": {},
   "outputs": [
    {
     "data": {
      "text/html": [
       "<div>\n",
       "<style scoped>\n",
       "    .dataframe tbody tr th:only-of-type {\n",
       "        vertical-align: middle;\n",
       "    }\n",
       "\n",
       "    .dataframe tbody tr th {\n",
       "        vertical-align: top;\n",
       "    }\n",
       "\n",
       "    .dataframe thead th {\n",
       "        text-align: right;\n",
       "    }\n",
       "</style>\n",
       "<table border=\"1\" class=\"dataframe\">\n",
       "  <thead>\n",
       "    <tr style=\"text-align: right;\">\n",
       "      <th></th>\n",
       "      <th>european put</th>\n",
       "      <th>Premia PutEur</th>\n",
       "      <th>relative error</th>\n",
       "    </tr>\n",
       "  </thead>\n",
       "  <tbody>\n",
       "    <tr>\n",
       "      <th>70</th>\n",
       "      <td>0.03787</td>\n",
       "      <td>0.03803</td>\n",
       "      <td>-0.004207</td>\n",
       "    </tr>\n",
       "    <tr>\n",
       "      <th>80</th>\n",
       "      <td>0.46209</td>\n",
       "      <td>0.45380</td>\n",
       "      <td>0.018268</td>\n",
       "    </tr>\n",
       "    <tr>\n",
       "      <th>90</th>\n",
       "      <td>2.51381</td>\n",
       "      <td>2.49590</td>\n",
       "      <td>0.007176</td>\n",
       "    </tr>\n",
       "    <tr>\n",
       "      <th>100</th>\n",
       "      <td>7.10631</td>\n",
       "      <td>7.08400</td>\n",
       "      <td>0.003149</td>\n",
       "    </tr>\n",
       "    <tr>\n",
       "      <th>110</th>\n",
       "      <td>13.72719</td>\n",
       "      <td>13.70740</td>\n",
       "      <td>0.001444</td>\n",
       "    </tr>\n",
       "    <tr>\n",
       "      <th>120</th>\n",
       "      <td>21.59436</td>\n",
       "      <td>21.57070</td>\n",
       "      <td>0.001097</td>\n",
       "    </tr>\n",
       "    <tr>\n",
       "      <th>130</th>\n",
       "      <td>30.18631</td>\n",
       "      <td>30.15840</td>\n",
       "      <td>0.000925</td>\n",
       "    </tr>\n",
       "    <tr>\n",
       "      <th>140</th>\n",
       "      <td>39.20529</td>\n",
       "      <td>39.17550</td>\n",
       "      <td>0.000760</td>\n",
       "    </tr>\n",
       "  </tbody>\n",
       "</table>\n",
       "</div>"
      ],
      "text/plain": [
       "     european put  Premia PutEur  relative error\n",
       "70        0.03787        0.03803       -0.004207\n",
       "80        0.46209        0.45380        0.018268\n",
       "90        2.51381        2.49590        0.007176\n",
       "100       7.10631        7.08400        0.003149\n",
       "110      13.72719       13.70740        0.001444\n",
       "120      21.59436       21.57070        0.001097\n",
       "130      30.18631       30.15840        0.000925\n",
       "140      39.20529       39.17550        0.000760"
      ]
     },
     "execution_count": 56,
     "metadata": {},
     "output_type": "execute_result"
    }
   ],
   "source": [
    "df_eur"
   ]
  },
  {
   "cell_type": "code",
   "execution_count": null,
   "id": "1884285e",
   "metadata": {},
   "outputs": [],
   "source": []
  }
 ],
 "metadata": {
  "kernelspec": {
   "display_name": "Python 3 (ipykernel)",
   "language": "python",
   "name": "python3"
  },
  "language_info": {
   "codemirror_mode": {
    "name": "ipython",
    "version": 3
   },
   "file_extension": ".py",
   "mimetype": "text/x-python",
   "name": "python",
   "nbconvert_exporter": "python",
   "pygments_lexer": "ipython3",
   "version": "3.9.13"
  },
  "latex_envs": {
   "LaTeX_envs_menu_present": true,
   "autoclose": false,
   "autocomplete": true,
   "bibliofile": "biblio.bib",
   "cite_by": "apalike",
   "current_citInitial": 1,
   "eqLabelWithNumbers": true,
   "eqNumInitial": 1,
   "hotkeys": {
    "equation": "Ctrl-E",
    "itemize": "Ctrl-I"
   },
   "labels_anchors": false,
   "latex_user_defs": false,
   "report_style_numbering": false,
   "user_envs_cfg": false
  },
  "toc": {
   "base_numbering": 1,
   "nav_menu": {},
   "number_sections": true,
   "sideBar": true,
   "skip_h1_title": false,
   "title_cell": "Table of Contents",
   "title_sidebar": "Contents",
   "toc_cell": false,
   "toc_position": {
    "height": "calc(100% - 180px)",
    "left": "10px",
    "top": "150px",
    "width": "187.390625px"
   },
   "toc_section_display": true,
   "toc_window_display": true
  }
 },
 "nbformat": 4,
 "nbformat_minor": 5
}
